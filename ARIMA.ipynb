{
 "cells": [
  {
   "cell_type": "code",
   "execution_count": null,
   "metadata": {},
   "outputs": [
    {
     "ename": "",
     "evalue": "",
     "output_type": "error",
     "traceback": [
      "\u001b[1;31mRunning cells with 'venv' requires the ipykernel package.\n",
      "\u001b[1;31mRun the following command to install 'ipykernel' into the Python environment. \n",
      "\u001b[1;31mCommand: 'c:/Users/melov/OneDrive/Documents/GitHub/tum_DAP_project/venv/Scripts/python.exe -m pip install ipykernel -U --force-reinstall'"
     ]
    }
   ],
   "source": [
    "import pandas as pd\n",
    "import matplotlib.pyplot as plt\n",
    "import numpy as np\n",
    "import seaborn as sns\n",
    "from pandas_datareader import data as pdr\n",
    "import datetime as dt\n",
    "import yfinance as yf\n",
    "yf.pdr_override()\n",
    "%matplotlib inline\n",
    "\n",
    "# !pip install yfinance --user"
   ]
  },
  {
   "cell_type": "code",
   "execution_count": null,
   "metadata": {},
   "outputs": [],
   "source": [
    "start = dt.datetime(2020, 8, 1)\n",
    "# start = dt.datetime.strptime('2020-07-01', '%Y-%m-%d')\n",
    "end = dt.datetime(2023, 2, 1)\n",
    "# end = dt.datetime.strptime('2023-2-1', '%Y-%m-%d')\n",
    "stocks = ['IFX.DE']\n",
    "stock_df = pdr.get_data_yahoo(stocks, start, end)\n"
   ]
  },
  {
   "cell_type": "code",
   "execution_count": null,
   "metadata": {},
   "outputs": [],
   "source": [
    "stock_df.head()"
   ]
  },
  {
   "cell_type": "code",
   "execution_count": null,
   "metadata": {},
   "outputs": [],
   "source": [
    "stock_df[['Open', 'High', 'Low', 'Close', 'Adj Close']].plot()"
   ]
  },
  {
   "attachments": {},
   "cell_type": "markdown",
   "metadata": {},
   "source": [
    "### Questions\n",
    "1. How to tell if product is active or not?\n",
    "2. How to deal with NA values? (https://towardsdatascience.com/4-techniques-to-handle-missing-values-in-time-series-data-c3568589b5a8)\n",
    "3. \n",
    "\n",
    "### Notes\n",
    "1. All products are active"
   ]
  },
  {
   "cell_type": "code",
   "execution_count": null,
   "metadata": {},
   "outputs": [],
   "source": [
    "df = pd.read_csv(\"20230411_SummerTerm23_Data_Challenge_Infineon_Data.csv\", parse_dates=['reporting_time'])\n",
    "df = df.set_index('reporting_time')\n",
    "df = df[df['planning_method_latest']!='no Plan']\n",
    "# (75088, 21) # original shape\n",
    "# (61756, 21) no cancelled products\n",
    "df.tail()"
   ]
  },
  {
   "cell_type": "code",
   "execution_count": null,
   "metadata": {},
   "outputs": [],
   "source": [
    "df.info()"
   ]
  },
  {
   "cell_type": "code",
   "execution_count": null,
   "metadata": {},
   "outputs": [],
   "source": [
    "df['product_application'].value_counts()"
   ]
  },
  {
   "cell_type": "code",
   "execution_count": null,
   "metadata": {
    "scrolled": true
   },
   "outputs": [],
   "source": [
    "df['product_main_family'].value_counts()"
   ]
  },
  {
   "cell_type": "code",
   "execution_count": null,
   "metadata": {},
   "outputs": [],
   "source": [
    "df['product_name'].value_counts() # cannot use for time series as some product names only have 1 entry"
   ]
  },
  {
   "cell_type": "code",
   "execution_count": null,
   "metadata": {},
   "outputs": [],
   "source": [
    "df['product_marketing_name'].value_counts()"
   ]
  },
  {
   "cell_type": "code",
   "execution_count": null,
   "metadata": {},
   "outputs": [],
   "source": [
    "df['product_basic_type'].value_counts() # cannot use for time series as some product basic types only have 1 entry"
   ]
  },
  {
   "cell_type": "code",
   "execution_count": null,
   "metadata": {},
   "outputs": [],
   "source": [
    "df_sample = df[df['product_marketing_name'] == 'maus'].dropna()\n",
    "test_series = df_sample.demand.resample('M').mean()\n",
    "test_exog_df = df_sample[['external1', 'external2', 'external3', 'external4', 'external5', 'external6', 'external7']].resample('M').mean()\n",
    "# test_series = test_series.diff().iloc[1:]\n",
    "# test_exog_df = test_exog_df.diff().iloc[1:]\n",
    "plt.figure(figsize=(15,10))\n",
    "plt.plot(test_series)\n",
    "plt.grid()\n",
    "plt.show()"
   ]
  },
  {
   "cell_type": "code",
   "execution_count": null,
   "metadata": {},
   "outputs": [],
   "source": [
    "# test_exog_df"
   ]
  },
  {
   "cell_type": "code",
   "execution_count": null,
   "metadata": {},
   "outputs": [],
   "source": [
    "from statsmodels.graphics.tsaplots import plot_acf, plot_pacf\n",
    "from statsmodels.tsa.arima.model import ARIMA\n",
    "from statsmodels.tsa.stattools import adfuller\n"
   ]
  },
  {
   "cell_type": "code",
   "execution_count": null,
   "metadata": {},
   "outputs": [],
   "source": [
    "acf_plot = plot_acf(test_series)"
   ]
  },
  {
   "cell_type": "code",
   "execution_count": null,
   "metadata": {},
   "outputs": [],
   "source": [
    "pcf_plot = plot_pacf(test_series)"
   ]
  },
  {
   "cell_type": "code",
   "execution_count": null,
   "metadata": {},
   "outputs": [],
   "source": [
    "result = adfuller(test_series, maxlag = 5)\n",
    "print(f'ADF Statistic: {result[0]}')\n",
    "print(f'n_lags: {result[2]}')\n",
    "print(f'p-value: {result[1]}')\n",
    "for key, value in result[4].items():\n",
    "    print('Critial Values:')\n",
    "    print(f'   {key}, {value}')"
   ]
  },
  {
   "cell_type": "code",
   "execution_count": null,
   "metadata": {},
   "outputs": [],
   "source": [
    "train_prop = 0.7\n",
    "valid_prop = 0.1\n",
    "validation_prop = 1-train_prop-test_prop\n",
    "\n",
    "train_set = test_series.iloc[:int(len(test_series)*train_prop)]\n",
    "valid_set = test_series.iloc[int(len(test_series)*train_prop): int(len(test_series)*(train_prop+test_prop))]\n",
    "test_set = test_series.iloc[int(len(test_series)*(train_prop+test_prop)):]\n",
    "\n",
    "train_exog = test_exog_df.iloc[:int(len(test_exog_df)*train_prop)]\n",
    "valid_exog = test_exog_df.iloc[int(len(test_exog_df)*train_prop): int(len(test_exog_df)*(train_prop+test_prop))]\n",
    "# test_exog"
   ]
  },
  {
   "cell_type": "code",
   "execution_count": null,
   "metadata": {},
   "outputs": [],
   "source": [
    "train_set_1 = test_series.iloc[:int(len(test_series)*train_prop)].diff().iloc[1:]\n",
    "acf = plot_acf(train_set_1)\n",
    "pacf = plot_pacf(train_set_1)"
   ]
  },
  {
   "cell_type": "code",
   "execution_count": null,
   "metadata": {},
   "outputs": [],
   "source": [
    "result = adfuller(train_set_1, maxlag = 5)\n",
    "print(f'ADF Statistic: {result[0]}')\n",
    "print(f'n_lags: {result[2]}')\n",
    "print(f'p-value: {result[1]}')\n",
    "for key, value in result[4].items():\n",
    "    print('Critial Values:')\n",
    "    print(f'   {key}, {value}')"
   ]
  },
  {
   "cell_type": "code",
   "execution_count": null,
   "metadata": {},
   "outputs": [],
   "source": [
    "model = ARIMA(train_set, order= (result[2], 0, 1), exog = train_exog)"
   ]
  },
  {
   "cell_type": "code",
   "execution_count": null,
   "metadata": {},
   "outputs": [],
   "source": [
    "model_fit = model.fit()\n",
    "print(model_fit.summary())"
   ]
  },
  {
   "cell_type": "code",
   "execution_count": null,
   "metadata": {},
   "outputs": [],
   "source": [
    "predictions = model_fit.predict(start = valid_set.index[0], end = valid_set.index[-1], exog = valid_exog)\n",
    "residuals = valid_set-predictions\n",
    "plt.figure(figsize = (10,4))\n",
    "plt.plot(residuals)\n",
    "plt.title('residuals of test_series')\n",
    "plt.ylabel('error')\n",
    "plt.xlabel('date')\n",
    "plt.axhline(0, color= 'r', linestyle = '--', alpha = 0.2)\n",
    "plt.axvline(valid_set.index[0], color ='k', linestyle = '--', alpha = 0.2)\n",
    "plt.axvline(valid_set.index[-1], color ='k', linestyle = '--', alpha = 0.2)\n",
    "\n",
    "plt.show()"
   ]
  },
  {
   "cell_type": "code",
   "execution_count": null,
   "metadata": {},
   "outputs": [],
   "source": [
    "plt.figure(figsize=(10,4))\n",
    "plt.plot(valid_set, label = 'validation set')\n",
    "plt.plot(predictions, color = 'r', label = 'predictions')\n",
    "plt.title('Validation set and prediction')\n",
    "plt.axvline(valid_set.index[0], color ='k', linestyle = '--', alpha = 0.2)\n",
    "plt.axvline(valid_set.index[-1], color ='k', linestyle = '--', alpha = 0.2)\n",
    "plt.legend(loc = \"upper left\")\n",
    "plt.grid()"
   ]
  },
  {
   "cell_type": "code",
   "execution_count": null,
   "metadata": {},
   "outputs": [],
   "source": [
    "rmse = np.sqrt(np.mean(residuals**2))\n",
    "print(f\"Root mean squared error: {rmse}\")"
   ]
  },
  {
   "cell_type": "code",
   "execution_count": null,
   "metadata": {},
   "outputs": [],
   "source": [
    "valid_set"
   ]
  },
  {
   "cell_type": "code",
   "execution_count": null,
   "metadata": {},
   "outputs": [],
   "source": [
    "sns.heatmap(df[['external1', 'external2', 'external3', 'external4', 'external5', 'external6', 'external7']].corr(), annot= True)"
   ]
  },
  {
   "cell_type": "code",
   "execution_count": null,
   "metadata": {},
   "outputs": [],
   "source": []
  }
 ],
 "metadata": {
  "kernelspec": {
   "display_name": "Python 3",
   "language": "python",
   "name": "python3"
  },
  "language_info": {
   "codemirror_mode": {
    "name": "ipython",
    "version": 3
   },
   "file_extension": ".py",
   "mimetype": "text/x-python",
   "name": "python",
   "nbconvert_exporter": "python",
   "pygments_lexer": "ipython3",
   "version": "3.11.3"
  }
 },
 "nbformat": 4,
 "nbformat_minor": 2
}
