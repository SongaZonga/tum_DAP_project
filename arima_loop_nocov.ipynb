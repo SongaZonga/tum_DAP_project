{
 "cells": [
  {
   "cell_type": "markdown",
   "metadata": {},
   "source": [
    "# Libraries"
   ]
  },
  {
   "cell_type": "code",
   "execution_count": 1,
   "metadata": {},
   "outputs": [
    {
     "name": "stderr",
     "output_type": "stream",
     "text": [
      "c:\\Users\\melov\\Documents\\GitHub\\tum_DAP_project\\venv\\lib\\site-packages\\tqdm\\auto.py:21: TqdmWarning: IProgress not found. Please update jupyter and ipywidgets. See https://ipywidgets.readthedocs.io/en/stable/user_install.html\n",
      "  from .autonotebook import tqdm as notebook_tqdm\n"
     ]
    }
   ],
   "source": [
    "import numpy as np\n",
    "import pandas as pd\n",
    "from darts.models import AutoARIMA\n",
    "from darts.metrics import smape\n",
    "from darts import TimeSeries\n",
    "from darts.dataprocessing.transformers import Scaler\n",
    "import matplotlib.pyplot as plt\n",
    "%matplotlib inline\n"
   ]
  },
  {
   "cell_type": "code",
   "execution_count": 2,
   "metadata": {},
   "outputs": [],
   "source": [
    "input_file=\"full_df.csv\"\n",
    "date_column_name = 'reporting_time'\n",
    "no_months = 50\n",
    "\n",
    "# Loading of dataset\n",
    "df_origin = pd.read_csv('full_df.csv', parse_dates=['reporting_time']).drop('Unnamed: 0', axis =1)\n",
    "\n",
    "#delete discontinuing products\n",
    "df_continue = df_origin[df_origin['reporting_time']=='2023-02-01T00:00:00.000Z']\n",
    "df_continue_origin = df_origin[df_origin['product_name'].isin(df_continue['product_name'])]\n",
    "\n",
    "df_continue_origin['reporting_time'] = pd.to_datetime(df_continue_origin['reporting_time'], utc=True)\n",
    "df_continue_origin['reporting_time'] = df_continue_origin['reporting_time'].dt.tz_localize(None)\n",
    "df_continue_origin.set_index('reporting_time', inplace=True)\n",
    "\n",
    "sub_df = df_continue_origin[df_continue_origin.groupby('product_name').product_name.transform('count')>=no_months].copy()\n",
    "\n",
    "train = 0.8\n",
    "val = 0.2\n",
    "\n",
    "all_prod_names = list(sub_df['product_name'].unique())\n",
    "\n",
    "forecast_length = 18"
   ]
  },
  {
   "cell_type": "markdown",
   "metadata": {},
   "source": [
    "# Functions"
   ]
  },
  {
   "cell_type": "code",
   "execution_count": 3,
   "metadata": {},
   "outputs": [],
   "source": [
    "def smape_func_darts(a, f):\n",
    "    a = TimeSeries.pd_series(a)\n",
    "    f = TimeSeries.pd_series(f)\n",
    "    numerator = np.sum(np.abs(a-f))\n",
    "    denominator = np.sum(a+f)\n",
    "    return numerator/denominator"
   ]
  },
  {
   "cell_type": "code",
   "execution_count": 4,
   "metadata": {},
   "outputs": [
    {
     "name": "stderr",
     "output_type": "stream",
     "text": [
      "c:\\Users\\melov\\Documents\\GitHub\\tum_DAP_project\\venv\\lib\\site-packages\\pmdarima\\arima\\auto.py:444: UserWarning: Input time-series is completely constant; returning a (0, 0, 0) ARMA.\n",
      "  warnings.warn('Input time-series is completely constant; '\n",
      "c:\\Users\\melov\\Documents\\GitHub\\tum_DAP_project\\venv\\lib\\site-packages\\pmdarima\\arima\\auto.py:444: UserWarning: Input time-series is completely constant; returning a (0, 0, 0) ARMA.\n",
      "  warnings.warn('Input time-series is completely constant; '\n",
      "c:\\Users\\melov\\Documents\\GitHub\\tum_DAP_project\\venv\\lib\\site-packages\\pmdarima\\arima\\auto.py:444: UserWarning: Input time-series is completely constant; returning a (0, 0, 0) ARMA.\n",
      "  warnings.warn('Input time-series is completely constant; '\n",
      "c:\\Users\\melov\\Documents\\GitHub\\tum_DAP_project\\venv\\lib\\site-packages\\pmdarima\\arima\\auto.py:444: UserWarning: Input time-series is completely constant; returning a (0, 0, 0) ARMA.\n",
      "  warnings.warn('Input time-series is completely constant; '\n",
      "c:\\Users\\melov\\Documents\\GitHub\\tum_DAP_project\\venv\\lib\\site-packages\\pmdarima\\arima\\auto.py:444: UserWarning: Input time-series is completely constant; returning a (0, 0, 0) ARMA.\n",
      "  warnings.warn('Input time-series is completely constant; '\n",
      "c:\\Users\\melov\\Documents\\GitHub\\tum_DAP_project\\venv\\lib\\site-packages\\pmdarima\\arima\\auto.py:444: UserWarning: Input time-series is completely constant; returning a (0, 0, 0) ARMA.\n",
      "  warnings.warn('Input time-series is completely constant; '\n",
      "c:\\Users\\melov\\Documents\\GitHub\\tum_DAP_project\\venv\\lib\\site-packages\\pmdarima\\arima\\auto.py:444: UserWarning: Input time-series is completely constant; returning a (0, 0, 0) ARMA.\n",
      "  warnings.warn('Input time-series is completely constant; '\n",
      "c:\\Users\\melov\\Documents\\GitHub\\tum_DAP_project\\venv\\lib\\site-packages\\pmdarima\\arima\\auto.py:444: UserWarning: Input time-series is completely constant; returning a (0, 0, 0) ARMA.\n",
      "  warnings.warn('Input time-series is completely constant; '\n",
      "c:\\Users\\melov\\Documents\\GitHub\\tum_DAP_project\\venv\\lib\\site-packages\\pmdarima\\arima\\auto.py:444: UserWarning: Input time-series is completely constant; returning a (0, 0, 0) ARMA.\n",
      "  warnings.warn('Input time-series is completely constant; '\n",
      "c:\\Users\\melov\\Documents\\GitHub\\tum_DAP_project\\venv\\lib\\site-packages\\pmdarima\\arima\\auto.py:444: UserWarning: Input time-series is completely constant; returning a (0, 0, 0) ARMA.\n",
      "  warnings.warn('Input time-series is completely constant; '\n",
      "c:\\Users\\melov\\Documents\\GitHub\\tum_DAP_project\\venv\\lib\\site-packages\\pmdarima\\arima\\auto.py:444: UserWarning: Input time-series is completely constant; returning a (0, 0, 0) ARMA.\n",
      "  warnings.warn('Input time-series is completely constant; '\n",
      "c:\\Users\\melov\\Documents\\GitHub\\tum_DAP_project\\venv\\lib\\site-packages\\pmdarima\\arima\\auto.py:444: UserWarning: Input time-series is completely constant; returning a (0, 0, 0) ARMA.\n",
      "  warnings.warn('Input time-series is completely constant; '\n",
      "c:\\Users\\melov\\Documents\\GitHub\\tum_DAP_project\\venv\\lib\\site-packages\\pmdarima\\arima\\auto.py:444: UserWarning: Input time-series is completely constant; returning a (0, 0, 0) ARMA.\n",
      "  warnings.warn('Input time-series is completely constant; '\n",
      "c:\\Users\\melov\\Documents\\GitHub\\tum_DAP_project\\venv\\lib\\site-packages\\pmdarima\\arima\\auto.py:444: UserWarning: Input time-series is completely constant; returning a (0, 0, 0) ARMA.\n",
      "  warnings.warn('Input time-series is completely constant; '\n",
      "c:\\Users\\melov\\Documents\\GitHub\\tum_DAP_project\\venv\\lib\\site-packages\\pmdarima\\arima\\auto.py:444: UserWarning: Input time-series is completely constant; returning a (0, 0, 0) ARMA.\n",
      "  warnings.warn('Input time-series is completely constant; '\n",
      "c:\\Users\\melov\\Documents\\GitHub\\tum_DAP_project\\venv\\lib\\site-packages\\pmdarima\\arima\\auto.py:444: UserWarning: Input time-series is completely constant; returning a (0, 0, 0) ARMA.\n",
      "  warnings.warn('Input time-series is completely constant; '\n",
      "c:\\Users\\melov\\Documents\\GitHub\\tum_DAP_project\\venv\\lib\\site-packages\\pmdarima\\arima\\auto.py:444: UserWarning: Input time-series is completely constant; returning a (0, 0, 0) ARMA.\n",
      "  warnings.warn('Input time-series is completely constant; '\n",
      "c:\\Users\\melov\\Documents\\GitHub\\tum_DAP_project\\venv\\lib\\site-packages\\pmdarima\\arima\\auto.py:444: UserWarning: Input time-series is completely constant; returning a (0, 0, 0) ARMA.\n",
      "  warnings.warn('Input time-series is completely constant; '\n",
      "c:\\Users\\melov\\Documents\\GitHub\\tum_DAP_project\\venv\\lib\\site-packages\\pmdarima\\arima\\auto.py:444: UserWarning: Input time-series is completely constant; returning a (0, 0, 0) ARMA.\n",
      "  warnings.warn('Input time-series is completely constant; '\n",
      "c:\\Users\\melov\\Documents\\GitHub\\tum_DAP_project\\venv\\lib\\site-packages\\pmdarima\\arima\\auto.py:444: UserWarning: Input time-series is completely constant; returning a (0, 0, 0) ARMA.\n",
      "  warnings.warn('Input time-series is completely constant; '\n",
      "c:\\Users\\melov\\Documents\\GitHub\\tum_DAP_project\\venv\\lib\\site-packages\\pmdarima\\arima\\auto.py:444: UserWarning: Input time-series is completely constant; returning a (0, 0, 0) ARMA.\n",
      "  warnings.warn('Input time-series is completely constant; '\n",
      "c:\\Users\\melov\\Documents\\GitHub\\tum_DAP_project\\venv\\lib\\site-packages\\pmdarima\\arima\\auto.py:444: UserWarning: Input time-series is completely constant; returning a (0, 0, 0) ARMA.\n",
      "  warnings.warn('Input time-series is completely constant; '\n",
      "c:\\Users\\melov\\Documents\\GitHub\\tum_DAP_project\\venv\\lib\\site-packages\\pmdarima\\arima\\auto.py:444: UserWarning: Input time-series is completely constant; returning a (0, 0, 0) ARMA.\n",
      "  warnings.warn('Input time-series is completely constant; '\n",
      "c:\\Users\\melov\\Documents\\GitHub\\tum_DAP_project\\venv\\lib\\site-packages\\pmdarima\\arima\\auto.py:444: UserWarning: Input time-series is completely constant; returning a (0, 0, 0) ARMA.\n",
      "  warnings.warn('Input time-series is completely constant; '\n",
      "c:\\Users\\melov\\Documents\\GitHub\\tum_DAP_project\\venv\\lib\\site-packages\\pmdarima\\arima\\auto.py:444: UserWarning: Input time-series is completely constant; returning a (0, 0, 0) ARMA.\n",
      "  warnings.warn('Input time-series is completely constant; '\n",
      "c:\\Users\\melov\\Documents\\GitHub\\tum_DAP_project\\venv\\lib\\site-packages\\pmdarima\\arima\\auto.py:444: UserWarning: Input time-series is completely constant; returning a (0, 0, 0) ARMA.\n",
      "  warnings.warn('Input time-series is completely constant; '\n",
      "c:\\Users\\melov\\Documents\\GitHub\\tum_DAP_project\\venv\\lib\\site-packages\\pmdarima\\arima\\auto.py:444: UserWarning: Input time-series is completely constant; returning a (0, 0, 0) ARMA.\n",
      "  warnings.warn('Input time-series is completely constant; '\n",
      "c:\\Users\\melov\\Documents\\GitHub\\tum_DAP_project\\venv\\lib\\site-packages\\pmdarima\\arima\\auto.py:444: UserWarning: Input time-series is completely constant; returning a (0, 0, 0) ARMA.\n",
      "  warnings.warn('Input time-series is completely constant; '\n",
      "c:\\Users\\melov\\Documents\\GitHub\\tum_DAP_project\\venv\\lib\\site-packages\\pmdarima\\arima\\auto.py:444: UserWarning: Input time-series is completely constant; returning a (0, 0, 0) ARMA.\n",
      "  warnings.warn('Input time-series is completely constant; '\n",
      "c:\\Users\\melov\\Documents\\GitHub\\tum_DAP_project\\venv\\lib\\site-packages\\pmdarima\\arima\\auto.py:444: UserWarning: Input time-series is completely constant; returning a (0, 0, 0) ARMA.\n",
      "  warnings.warn('Input time-series is completely constant; '\n",
      "c:\\Users\\melov\\Documents\\GitHub\\tum_DAP_project\\venv\\lib\\site-packages\\pmdarima\\arima\\auto.py:444: UserWarning: Input time-series is completely constant; returning a (0, 0, 0) ARMA.\n",
      "  warnings.warn('Input time-series is completely constant; '\n",
      "c:\\Users\\melov\\Documents\\GitHub\\tum_DAP_project\\venv\\lib\\site-packages\\pmdarima\\arima\\auto.py:444: UserWarning: Input time-series is completely constant; returning a (0, 0, 0) ARMA.\n",
      "  warnings.warn('Input time-series is completely constant; '\n",
      "c:\\Users\\melov\\Documents\\GitHub\\tum_DAP_project\\venv\\lib\\site-packages\\pmdarima\\arima\\auto.py:444: UserWarning: Input time-series is completely constant; returning a (0, 0, 0) ARMA.\n",
      "  warnings.warn('Input time-series is completely constant; '\n",
      "c:\\Users\\melov\\Documents\\GitHub\\tum_DAP_project\\venv\\lib\\site-packages\\pmdarima\\arima\\auto.py:444: UserWarning: Input time-series is completely constant; returning a (0, 0, 0) ARMA.\n",
      "  warnings.warn('Input time-series is completely constant; '\n",
      "c:\\Users\\melov\\Documents\\GitHub\\tum_DAP_project\\venv\\lib\\site-packages\\pmdarima\\arima\\auto.py:444: UserWarning: Input time-series is completely constant; returning a (0, 0, 0) ARMA.\n",
      "  warnings.warn('Input time-series is completely constant; '\n",
      "c:\\Users\\melov\\Documents\\GitHub\\tum_DAP_project\\venv\\lib\\site-packages\\pmdarima\\arima\\auto.py:444: UserWarning: Input time-series is completely constant; returning a (0, 0, 0) ARMA.\n",
      "  warnings.warn('Input time-series is completely constant; '\n",
      "c:\\Users\\melov\\Documents\\GitHub\\tum_DAP_project\\venv\\lib\\site-packages\\pmdarima\\arima\\auto.py:444: UserWarning: Input time-series is completely constant; returning a (0, 0, 0) ARMA.\n",
      "  warnings.warn('Input time-series is completely constant; '\n",
      "c:\\Users\\melov\\Documents\\GitHub\\tum_DAP_project\\venv\\lib\\site-packages\\pmdarima\\arima\\auto.py:444: UserWarning: Input time-series is completely constant; returning a (0, 0, 0) ARMA.\n",
      "  warnings.warn('Input time-series is completely constant; '\n",
      "c:\\Users\\melov\\Documents\\GitHub\\tum_DAP_project\\venv\\lib\\site-packages\\pmdarima\\arima\\auto.py:444: UserWarning: Input time-series is completely constant; returning a (0, 0, 0) ARMA.\n",
      "  warnings.warn('Input time-series is completely constant; '\n",
      "c:\\Users\\melov\\Documents\\GitHub\\tum_DAP_project\\venv\\lib\\site-packages\\pmdarima\\arima\\auto.py:444: UserWarning: Input time-series is completely constant; returning a (0, 0, 0) ARMA.\n",
      "  warnings.warn('Input time-series is completely constant; '\n",
      "c:\\Users\\melov\\Documents\\GitHub\\tum_DAP_project\\venv\\lib\\site-packages\\pmdarima\\arima\\auto.py:444: UserWarning: Input time-series is completely constant; returning a (0, 0, 0) ARMA.\n",
      "  warnings.warn('Input time-series is completely constant; '\n",
      "c:\\Users\\melov\\Documents\\GitHub\\tum_DAP_project\\venv\\lib\\site-packages\\pmdarima\\arima\\auto.py:444: UserWarning: Input time-series is completely constant; returning a (0, 0, 0) ARMA.\n",
      "  warnings.warn('Input time-series is completely constant; '\n",
      "c:\\Users\\melov\\Documents\\GitHub\\tum_DAP_project\\venv\\lib\\site-packages\\pmdarima\\arima\\auto.py:444: UserWarning: Input time-series is completely constant; returning a (0, 0, 0) ARMA.\n",
      "  warnings.warn('Input time-series is completely constant; '\n",
      "c:\\Users\\melov\\Documents\\GitHub\\tum_DAP_project\\venv\\lib\\site-packages\\pmdarima\\arima\\auto.py:444: UserWarning: Input time-series is completely constant; returning a (0, 0, 0) ARMA.\n",
      "  warnings.warn('Input time-series is completely constant; '\n"
     ]
    },
    {
     "name": "stdout",
     "output_type": "stream",
     "text": [
      "completed\n"
     ]
    }
   ],
   "source": [
    "metrics_df = pd.DataFrame({'product_name' : all_prod_names})\n",
    "metric_list = []\n",
    "\n",
    "\n",
    "# print('start of loop')\n",
    "for name in all_prod_names:\n",
    "    # initialize scalers\n",
    "    scaler_train = Scaler()\n",
    "    scaler_val_all = Scaler()\n",
    "    scaler_val_uni = Scaler()\n",
    "    \n",
    "    # subsetting dataframe\n",
    "    prod_df = sub_df[sub_df['product_name']==name][['demand']]\n",
    "    darts_df = TimeSeries.from_dataframe(prod_df, freq='MS', fillna_value=prod_df['demand'].mean())\n",
    "    train_set, val_set= darts_df.split_before(train)\n",
    "\n",
    "    # fit scalers\n",
    "    train_set = scaler_train.fit_transform(train_set)\n",
    "    val_set_all = scaler_val_all.fit_transform(val_set)\n",
    "    val_set_uni = scaler_val_uni.fit_transform(val_set['demand'])\n",
    "\n",
    "    model_aarima = AutoARIMA(information_criterion = 'hqic')\n",
    "    model_aarima.fit(series = train_set['demand'])\n",
    "    forecast = model_aarima.predict(len(val_set)+forecast_length)\n",
    "\n",
    "    # inverse forecasts to original magnittude\n",
    "    forecast = scaler_val_uni.inverse_transform(forecast)\n",
    "    forecast = TimeSeries.pd_dataframe(forecast)\n",
    "\n",
    "    # set forecasted 0s to be 0.0001 such that smape can be calculated \n",
    "    forecast['demand'] = forecast['demand'].apply(lambda x: x if x>0 else 0.0001)\n",
    "    forecast = TimeSeries.from_dataframe(forecast)\n",
    "    metric_score = 1 - smape_func_darts(val_set['demand'], forecast[:len(val_set)])\n",
    "    metric_list.append(metric_score)\n",
    "\n",
    "    # plotting result\n",
    "    plt.plot(TimeSeries.pd_series(darts_df['demand']), label = 'historical')\n",
    "    plt.plot(TimeSeries.pd_series(forecast['demand'][:len(val_set)]), label = 'val_set')\n",
    "    plt.plot(TimeSeries.pd_series(forecast['demand'][-forecast_length:]), label = 'forecast')\n",
    "    plt.legend()\n",
    "    plt.title(f'Product {name}, Accuracy: {metric_score}')\n",
    "    plt.savefig(f'output/AutoArima/graphs/{name}.png')\n",
    "    plt.close()\n",
    "\n",
    "    model_aarima.save(f'output/AutoArima/models/{name}.pkl')\n",
    "\n",
    "metrics_df['Accuracy_Score'] = metric_list\n",
    "\n",
    "\n",
    "metrics_df.to_csv('output/AutoArima/Arima_score.csv')\n",
    "print('completed')\n",
    "\n"
   ]
  },
  {
   "cell_type": "code",
   "execution_count": 5,
   "metadata": {},
   "outputs": [
    {
     "data": {
      "text/html": [
       "<div>\n",
       "<style scoped>\n",
       "    .dataframe tbody tr th:only-of-type {\n",
       "        vertical-align: middle;\n",
       "    }\n",
       "\n",
       "    .dataframe tbody tr th {\n",
       "        vertical-align: top;\n",
       "    }\n",
       "\n",
       "    .dataframe thead th {\n",
       "        text-align: right;\n",
       "    }\n",
       "</style>\n",
       "<table border=\"1\" class=\"dataframe\">\n",
       "  <thead>\n",
       "    <tr style=\"text-align: right;\">\n",
       "      <th></th>\n",
       "      <th>product_name</th>\n",
       "      <th>Accuracy_Score</th>\n",
       "    </tr>\n",
       "  </thead>\n",
       "  <tbody>\n",
       "    <tr>\n",
       "      <th>0</th>\n",
       "      <td>P1000</td>\n",
       "      <td>7.670714e-01</td>\n",
       "    </tr>\n",
       "    <tr>\n",
       "      <th>1</th>\n",
       "      <td>P1001</td>\n",
       "      <td>4.107688e-01</td>\n",
       "    </tr>\n",
       "    <tr>\n",
       "      <th>2</th>\n",
       "      <td>P1002</td>\n",
       "      <td>9.015715e-01</td>\n",
       "    </tr>\n",
       "    <tr>\n",
       "      <th>3</th>\n",
       "      <td>P1003</td>\n",
       "      <td>5.058257e-01</td>\n",
       "    </tr>\n",
       "    <tr>\n",
       "      <th>4</th>\n",
       "      <td>P1004</td>\n",
       "      <td>6.344377e-01</td>\n",
       "    </tr>\n",
       "    <tr>\n",
       "      <th>...</th>\n",
       "      <td>...</td>\n",
       "      <td>...</td>\n",
       "    </tr>\n",
       "    <tr>\n",
       "      <th>1026</th>\n",
       "      <td>P995</td>\n",
       "      <td>4.836655e-01</td>\n",
       "    </tr>\n",
       "    <tr>\n",
       "      <th>1027</th>\n",
       "      <td>P996</td>\n",
       "      <td>7.713726e-01</td>\n",
       "    </tr>\n",
       "    <tr>\n",
       "      <th>1028</th>\n",
       "      <td>P997</td>\n",
       "      <td>7.197254e-01</td>\n",
       "    </tr>\n",
       "    <tr>\n",
       "      <th>1029</th>\n",
       "      <td>P998</td>\n",
       "      <td>1.748636e-02</td>\n",
       "    </tr>\n",
       "    <tr>\n",
       "      <th>1030</th>\n",
       "      <td>P999</td>\n",
       "      <td>1.016166e-08</td>\n",
       "    </tr>\n",
       "  </tbody>\n",
       "</table>\n",
       "<p>1031 rows × 2 columns</p>\n",
       "</div>"
      ],
      "text/plain": [
       "     product_name  Accuracy_Score\n",
       "0           P1000    7.670714e-01\n",
       "1           P1001    4.107688e-01\n",
       "2           P1002    9.015715e-01\n",
       "3           P1003    5.058257e-01\n",
       "4           P1004    6.344377e-01\n",
       "...           ...             ...\n",
       "1026         P995    4.836655e-01\n",
       "1027         P996    7.713726e-01\n",
       "1028         P997    7.197254e-01\n",
       "1029         P998    1.748636e-02\n",
       "1030         P999    1.016166e-08\n",
       "\n",
       "[1031 rows x 2 columns]"
      ]
     },
     "execution_count": 5,
     "metadata": {},
     "output_type": "execute_result"
    }
   ],
   "source": [
    "metrics_df"
   ]
  },
  {
   "cell_type": "code",
   "execution_count": 7,
   "metadata": {},
   "outputs": [
    {
     "name": "stdout",
     "output_type": "stream",
     "text": [
      "879 0.4371311137985209\n"
     ]
    },
    {
     "data": {
      "image/png": "[encoded data removed]",
      "text/plain": [
       "<Figure size 640x480 with 1 Axes>"
      ]
     },
     "metadata": {},
     "output_type": "display_data"
    }
   ],
   "source": [
    "print(len(metrics_df[metrics_df['Accuracy_Score']>0]), metrics_df['Accuracy_Score'].mean())\n",
    "counts, edges, bars = plt.hist(metrics_df['Accuracy_Score'], color = \"#1f77b4\")\n",
    "plt.bar_label(container=bars)\n",
    "plt.show()"
   ]
  },
  {
   "cell_type": "code",
   "execution_count": null,
   "metadata": {},
   "outputs": [],
   "source": [
    "metrics_df.to_csv('Arima_score.csv')"
   ]
  },
  {
   "cell_type": "code",
   "execution_count": null,
   "metadata": {},
   "outputs": [],
   "source": []
  }
 ],
 "metadata": {
  "kernelspec": {
   "display_name": "venv",
   "language": "python",
   "name": "python3"
  },
  "language_info": {
   "codemirror_mode": {
    "name": "ipython",
    "version": 3
   },
   "file_extension": ".py",
   "mimetype": "text/x-python",
   "name": "python",
   "nbconvert_exporter": "python",
   "pygments_lexer": "ipython3",
   "version": "3.10.0"
  },
  "orig_nbformat": 4
 },
 "nbformat": 4,
 "nbformat_minor": 2
}
