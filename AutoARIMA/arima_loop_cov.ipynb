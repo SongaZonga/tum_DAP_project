{
 "cells": [
  {
   "cell_type": "markdown",
   "metadata": {},
   "source": [
    "# Libraries"
   ]
  },
  {
   "cell_type": "code",
   "execution_count": 3,
   "metadata": {},
   "outputs": [
    {
     "name": "stderr",
     "output_type": "stream",
     "text": [
      "c:\\Users\\melov\\Documents\\GitHub\\tum_DAP_project\\venv\\lib\\site-packages\\tqdm\\auto.py:21: TqdmWarning: IProgress not found. Please update jupyter and ipywidgets. See https://ipywidgets.readthedocs.io/en/stable/user_install.html\n",
      "  from .autonotebook import tqdm as notebook_tqdm\n"
     ]
    }
   ],
   "source": [
    "import numpy as np\n",
    "import pandas as pd\n",
    "from darts.models import AutoARIMA\n",
    "from darts.metrics import smape\n",
    "from darts import TimeSeries\n",
    "from darts.dataprocessing.transformers import Scaler\n",
    "import matplotlib.pyplot as plt\n",
    "from statsmodels.stats.outliers_influence import variance_inflation_factor"
   ]
  },
  {
   "cell_type": "markdown",
   "metadata": {},
   "source": [
    "# Functions"
   ]
  },
  {
   "cell_type": "code",
   "execution_count": 4,
   "metadata": {},
   "outputs": [],
   "source": [
    "def predict_df_aarima(external_varaibles, forecast_len):\n",
    "    \"\"\"builds dataframe of predictions using AutoARIMA model\"\"\"\n",
    "\n",
    "    #convert dataset into time series\n",
    "    dataset_ts = external_varaibles\n",
    "\n",
    "    #create empty dataframe to place results into\n",
    "    predictions_df = pd.DataFrame()\n",
    "\n",
    "    #loop through all external variables and generate predictions\n",
    "    for name in list(external_varaibles.columns):\n",
    "        \n",
    "        #fitting AutoARIMA to predict\n",
    "        model = AutoARIMA(information_criterion = 'hqic', seasonal=True, add_encoders = {'transformer':Scaler()})\n",
    "        \n",
    "        model.fit(dataset_ts[name])\n",
    "        forecast = model.predict(forecast_len)\n",
    "        predictions_df[name] = TimeSeries.pd_dataframe(forecast)\n",
    "\n",
    "    return TimeSeries.from_dataframe(predictions_df)\n",
    "        \n",
    "def accuracy_score(a, f):\n",
    "    return 100 - smape(a, f)\n",
    "\n",
    "\n",
    "def high_cor_var(df, target, columns, threshold = 0.5):\n",
    "    \"\"\"Takes in dataframe and selects columns based on pearson correlation\"\"\"\n",
    "    df_func = df[target + columns].corr()\n",
    "    corr_col = list(df_func[np.abs(df_func.iloc[0])>threshold].iloc[1:,0].index)\n",
    "    return corr_col\n",
    "\n",
    "# Find exeternal variables that are highly correlated and remove them\n",
    "def VIF(df, threshold = 10):\n",
    "    if len(list(df.columns)) <= 1:\n",
    "        return [df.columns[0]]\n",
    "    vif_df = calc_VIF(df)\n",
    "    return list(remove_VIF(df, vif_df, threshold=threshold).drop(columns=f'VIF_{threshold}')['variables'])\n",
    "\n",
    "def remove_VIF(df_1, df_2, threshold):\n",
    "    df_2[f'VIF_{threshold}'] = df_2['VIF'].apply(lambda x : True if x <=threshold else False)\n",
    "    while df_2[f'VIF_{threshold}'].sum() != len(df_2):\n",
    "        dropped_col = df_2[df_2['VIF'] == df_2['VIF'].max()]['variables'].item()\n",
    "        df_1 = df_1.drop(columns= dropped_col)\n",
    "        df_2 = calc_VIF(df_1)\n",
    "        df_2[f'VIF_{threshold}'] = df_2['VIF'].apply(lambda x : True if x <=5 else False)\n",
    "    return df_2\n",
    "\n",
    "def calc_VIF(df):\n",
    "    vif = pd.DataFrame()\n",
    "    vif['variables'] = df.columns\n",
    "    vif['VIF'] = [variance_inflation_factor(df.values, i) for i in range(df.shape[1])]\n",
    "    return vif\n",
    "\n",
    "def smape_func_darts(a, f):\n",
    "    a = TimeSeries.pd_series(a)\n",
    "    f = TimeSeries.pd_series(f)\n",
    "    numerator = np.sum(np.abs(a-f))\n",
    "    denominator = np.sum(a+f)\n",
    "    return numerator/denominator"
   ]
  },
  {
   "cell_type": "markdown",
   "metadata": {},
   "source": [
    "# Loading and preparing data"
   ]
  },
  {
   "cell_type": "code",
   "execution_count": 5,
   "metadata": {},
   "outputs": [],
   "source": [
    "input_file=\"full_df.csv\"\n",
    "date_column_name = 'reporting_time'\n",
    "no_months = 50\n",
    "\n",
    "# Loading of dataset\n",
    "df_origin = pd.read_csv('full_df.csv', parse_dates=['reporting_time']).drop('Unnamed: 0', axis = 1)\n",
    "\n",
    "#delete discontinuing products\n",
    "df_continue = df_origin[df_origin['reporting_time']=='2023-02-01T00:00:00.000Z']\n",
    "df_continue_origin = df_origin[df_origin['product_name'].isin(df_continue['product_name'])]\n",
    "\n",
    "df_continue_origin['reporting_time'] = pd.to_datetime(df_continue_origin['reporting_time'], utc=True)\n",
    "df_continue_origin['reporting_time'] = df_continue_origin['reporting_time'].dt.tz_localize(None)\n",
    "df_continue_origin.set_index('reporting_time', inplace=True)\n",
    "\n",
    "sub_df = df_continue_origin[df_continue_origin.groupby('product_name').product_name.transform('count')>=no_months].copy()\n"
   ]
  },
  {
   "cell_type": "code",
   "execution_count": 6,
   "metadata": {},
   "outputs": [],
   "source": [
    "all_prod_names = list(sub_df['product_name'].unique())\n",
    "metrics_df = pd.DataFrame({'product_name' : all_prod_names})\n",
    "\n",
    "ext_var = ['external1', 'external2','external3', 'external4', 'external5', 'external6', 'external7', 'Adj Close']\n",
    "target = ['demand']\n",
    "train_size = 0.8\n",
    "forecast_length = 18"
   ]
  },
  {
   "cell_type": "code",
   "execution_count": 7,
   "metadata": {},
   "outputs": [
    {
     "name": "stdout",
     "output_type": "stream",
     "text": [
      "P1000\n",
      "P1001\n",
      "P1002\n",
      "P1003\n",
      "P1004\n",
      "P1005\n",
      "P1006\n",
      "P1007\n",
      "P1008\n",
      "P1009\n",
      "P1010\n",
      "P1011\n",
      "P1012\n",
      "P1013\n",
      "P1014\n",
      "P1015\n",
      "P1016\n",
      "P1017\n",
      "P1018\n",
      "P1019\n",
      "P1020\n",
      "P1021\n",
      "P1022\n",
      "P1023\n",
      "P1024\n",
      "P1025\n",
      "P1026\n",
      "P1027\n",
      "P1028\n",
      "P1029\n",
      "P1030\n",
      "P1031\n",
      "P1032\n",
      "P1034\n",
      "P1036\n",
      "P1037\n",
      "P1038\n",
      "P1039\n",
      "P1040\n",
      "P1042\n",
      "P1045\n",
      "P1046\n",
      "P1047\n",
      "P1050\n",
      "P1054\n",
      "P1055\n",
      "P1063\n"
     ]
    },
    {
     "name": "stderr",
     "output_type": "stream",
     "text": [
      "c:\\Users\\melov\\Documents\\GitHub\\tum_DAP_project\\venv\\lib\\site-packages\\pmdarima\\arima\\auto.py:444: UserWarning: Input time-series is completely constant; returning a (0, 0, 0) ARMA.\n",
      "  warnings.warn('Input time-series is completely constant; '\n"
     ]
    },
    {
     "name": "stdout",
     "output_type": "stream",
     "text": [
      "P1104\n",
      "P1105\n",
      "P1106\n",
      "P1107\n",
      "P1108\n",
      "P1109\n",
      "P1110\n",
      "P1111\n",
      "P1112\n",
      "P1114\n",
      "P1119\n",
      "P1120\n",
      "P1124\n",
      "P1127\n",
      "P1128\n",
      "P1130\n",
      "P1131\n",
      "P1132\n",
      "P1134\n",
      "P1135\n",
      "P1136\n",
      "P1137\n",
      "P1139\n",
      "P1140\n",
      "P1141\n",
      "P1142\n",
      "P1143\n",
      "P1144\n",
      "P1145\n",
      "P1147\n",
      "P1148\n",
      "P1149\n",
      "P1150\n",
      "P1151\n",
      "P1152\n",
      "P1153\n",
      "P1154\n",
      "P1155\n",
      "P1156\n",
      "P1157\n",
      "P1158\n",
      "P1159\n",
      "P1160\n",
      "P1161\n",
      "P1162\n",
      "P1163\n",
      "P1164\n",
      "P1166\n",
      "P1167\n",
      "P1170\n",
      "P1172\n",
      "P1174\n",
      "P1177\n",
      "P1179\n",
      "P1180\n",
      "P1182\n",
      "P1183\n",
      "P1185\n",
      "P1186\n",
      "P1188\n",
      "P1191\n",
      "P1192\n",
      "P1202\n",
      "P1203\n",
      "P1204\n",
      "P1205\n",
      "P1206\n",
      "P1208\n",
      "P1209\n",
      "P1210\n",
      "P1211\n",
      "P1212\n",
      "P1213\n",
      "P1214\n",
      "P1215\n",
      "P1216\n",
      "P1217\n",
      "P1218\n",
      "P1219\n",
      "P1220\n",
      "P1221\n",
      "P1222\n",
      "P1224\n",
      "P1225\n",
      "P1226\n",
      "P1227\n",
      "P1228\n",
      "P1229\n",
      "P1230\n",
      "P1231\n",
      "P1233\n",
      "P1234\n",
      "P1235\n",
      "P1236\n",
      "P1237\n",
      "P1239\n",
      "P1240\n",
      "P1241\n",
      "P1242\n",
      "P1243\n",
      "P1244\n",
      "P1245\n",
      "P1246\n",
      "P1247\n",
      "P1248\n",
      "P1249\n",
      "P1250\n",
      "P1252\n",
      "P1253\n",
      "P1254\n",
      "P1255\n",
      "P1256\n",
      "P1257\n",
      "P1258\n",
      "P1259\n",
      "P1260\n",
      "P1261\n",
      "P1262\n",
      "P1263\n",
      "P1264\n",
      "P1265\n",
      "P1266\n",
      "P1267\n",
      "P1269\n",
      "P1272\n",
      "P1274\n",
      "P1276\n",
      "P1277\n",
      "P1279\n",
      "P1281\n",
      "P1282\n",
      "P1283\n",
      "P1284\n",
      "P1285\n",
      "P1286\n",
      "P1287\n",
      "P1288\n",
      "P1289\n",
      "P1290\n",
      "P1291\n",
      "P1292\n",
      "P1293\n",
      "P1294\n",
      "P1295\n",
      "P1296\n",
      "P1297\n",
      "P1299\n",
      "P1300\n",
      "P1301\n",
      "P1302\n",
      "P1303\n",
      "P1304\n",
      "P1306\n",
      "P1307\n",
      "P1308\n",
      "P1309\n",
      "P1310\n",
      "P1313\n",
      "P1314\n",
      "P1315\n",
      "P1316\n",
      "P1317\n",
      "P1319\n",
      "P1320\n",
      "P1321\n",
      "P1322\n",
      "P1323\n",
      "P1324\n",
      "P1325\n",
      "P1326\n",
      "P1327\n",
      "P1329\n",
      "P1331\n",
      "P1337\n",
      "P1338\n",
      "P1339\n",
      "P1343\n",
      "P1344\n",
      "P1346\n",
      "P1348\n",
      "P1351\n",
      "P1352\n",
      "P1353\n",
      "P1355\n",
      "P1357\n",
      "P1359\n",
      "P1362\n",
      "P1363\n",
      "P1365\n",
      "P1366\n",
      "P1367\n",
      "P1369\n",
      "P1372\n",
      "P1373\n",
      "P1374\n",
      "P1376\n",
      "P1378\n",
      "P1380\n",
      "P1381\n",
      "P1382\n",
      "P1383\n",
      "P1385\n",
      "P1386\n",
      "P1387\n",
      "P1388\n",
      "P1389\n",
      "P1390\n",
      "P1391\n",
      "P1392\n",
      "P1393\n",
      "P1394\n",
      "P1395\n",
      "P1397\n",
      "P1430\n",
      "P1431\n",
      "P1432\n",
      "P1433\n",
      "P1435\n",
      "P1436\n",
      "P1437\n",
      "P1438\n",
      "P1440\n",
      "P1441\n",
      "P1442\n",
      "P1443\n",
      "P1444\n",
      "P1445\n",
      "P1446\n",
      "P1448\n",
      "P1450\n",
      "P1451\n",
      "P1452\n",
      "P1454\n",
      "P1456\n",
      "P1457\n",
      "P1458\n",
      "P1459\n",
      "P1460\n",
      "P1461\n",
      "P1462\n",
      "P1463\n",
      "P1464\n",
      "P1465\n",
      "P1466\n",
      "P1468\n",
      "P1469\n",
      "P1470\n",
      "P1471\n",
      "P1472\n",
      "P1473\n",
      "P1474\n",
      "P1475\n",
      "P1476\n",
      "P1477\n",
      "P1478\n",
      "P1479\n",
      "P1482\n",
      "P1483\n",
      "P1484\n",
      "P1486\n",
      "P1488\n",
      "P1490\n",
      "P1491\n",
      "P1492\n",
      "P1494\n",
      "P1495\n",
      "P1498\n",
      "P1499\n",
      "P1500\n",
      "P1506\n",
      "P1511\n",
      "P1515\n",
      "P1518\n",
      "P1520\n",
      "P1522\n",
      "P1524\n",
      "P1525\n",
      "P1526\n",
      "P1528\n",
      "P1529\n",
      "P1530\n",
      "P1531\n",
      "P1534\n",
      "P1535\n",
      "P1536\n",
      "P1538\n",
      "P1539\n",
      "P1540\n",
      "P1541\n",
      "P1542\n",
      "P1543\n",
      "P1544\n",
      "P1545\n",
      "P1546\n",
      "P1547\n",
      "P1548\n",
      "P1549\n",
      "P1551\n",
      "P1552\n",
      "P1560\n",
      "P1563\n",
      "P1566\n",
      "P1567\n",
      "P1569\n",
      "P1571\n",
      "P1572\n",
      "P1573\n",
      "P1574\n",
      "P1577\n",
      "P1578\n",
      "P1579\n",
      "P1580\n",
      "P1581\n",
      "P1582\n",
      "P1583\n",
      "P1584\n",
      "P1587\n",
      "P1588\n",
      "P1590\n",
      "P1591\n",
      "P1592\n",
      "P1593\n",
      "P1594\n",
      "P1595\n",
      "P1596\n",
      "P1597\n",
      "P1598\n",
      "P1599\n",
      "P1600\n",
      "P1601\n",
      "P1603\n",
      "P1604\n",
      "P1605\n",
      "P1606\n",
      "P1607\n",
      "P1608\n",
      "P1609\n",
      "P1610\n",
      "P1611\n",
      "P1612\n",
      "P1613\n",
      "P1614\n",
      "P1615\n",
      "P1616\n",
      "P1617\n",
      "P1618\n",
      "P1619\n",
      "P1620\n",
      "P1624\n",
      "P1625\n",
      "P1626\n",
      "P1628\n",
      "P1630\n",
      "P1631\n",
      "P1637\n",
      "P1638\n",
      "P1640\n",
      "P1641\n",
      "P1642\n",
      "P1643\n",
      "P1645\n",
      "P1647\n",
      "P1650\n",
      "P1651\n",
      "P1652\n",
      "P1654\n",
      "P1656\n",
      "P1659\n",
      "P1661\n",
      "P1662\n",
      "P1663\n",
      "P1664\n",
      "P1668\n",
      "P1669\n",
      "P1673\n",
      "P1674\n",
      "P1676\n",
      "P1678\n",
      "P1680\n",
      "P1682\n",
      "P1683\n",
      "P1684\n",
      "P1685\n",
      "P1687\n",
      "P1688\n",
      "P1689\n",
      "P1691\n",
      "P1692\n",
      "P1701\n",
      "P1702\n",
      "P1703\n",
      "P1705\n",
      "P1707\n",
      "P1709\n",
      "P1710\n",
      "P1715\n",
      "P1716\n",
      "P1717\n",
      "P1718\n",
      "P1721\n",
      "P1723\n",
      "P1724\n",
      "P1725\n",
      "P1726\n",
      "P1727\n",
      "P1728\n",
      "P1729\n",
      "P1733\n",
      "P1743\n",
      "P1746\n",
      "P1752\n",
      "P1753\n",
      "P1754\n",
      "P1757\n",
      "P1760\n",
      "P1762\n",
      "P1763\n",
      "P1766\n",
      "P1767\n",
      "P1770\n",
      "P1771\n",
      "P1772\n",
      "P1773\n",
      "P1774\n",
      "P1775\n",
      "P1777\n",
      "P1778\n",
      "P1779\n",
      "P1780\n",
      "P1781\n",
      "P1782\n",
      "P1783\n",
      "P1785\n",
      "P1786\n",
      "P1787\n",
      "P1788\n",
      "P1789\n",
      "P1790\n",
      "P1791\n",
      "P1792\n",
      "P1793\n",
      "P1794\n",
      "P1798\n",
      "P1799\n",
      "P1800\n",
      "P1801\n",
      "P1802\n",
      "P1805\n",
      "P1806\n",
      "P1807\n",
      "P1808\n",
      "P1810\n",
      "P1813\n",
      "P1814\n",
      "P1815\n",
      "P1817\n",
      "P1818\n",
      "P1820\n",
      "P1821\n",
      "P1822\n",
      "P1823\n",
      "P1826\n",
      "P1827\n",
      "P1834\n",
      "P1843\n",
      "P1844\n",
      "P1846\n",
      "P1848\n",
      "P1849\n",
      "P1850\n",
      "P1852\n",
      "P1854\n",
      "P1855\n",
      "P1857\n",
      "P1860\n",
      "P1861\n",
      "P1862\n",
      "P1863\n",
      "P1864\n",
      "P1865\n",
      "P1867\n",
      "P1868\n",
      "P1871\n",
      "P1872\n",
      "P1873\n",
      "P1874\n",
      "P1875\n",
      "P1876\n",
      "P1877\n",
      "P1884\n",
      "P1885\n",
      "P1886\n",
      "P1887\n",
      "P1888\n",
      "P1889\n",
      "P1890\n",
      "P1896\n",
      "P1899\n",
      "P1901\n",
      "P1902\n",
      "P1904\n",
      "P1905\n",
      "P1906\n",
      "P1907\n",
      "P1908\n",
      "P1909\n",
      "P1910\n",
      "P1911\n",
      "P1912\n",
      "P1913\n",
      "P1914\n",
      "P1915\n",
      "P1916\n",
      "P1917\n",
      "P211\n",
      "P220\n",
      "P222\n",
      "P223\n",
      "P224\n",
      "P225\n",
      "P226\n",
      "P227\n",
      "P230\n",
      "P232\n",
      "P234\n",
      "P236\n",
      "P238\n",
      "P240\n",
      "P242\n",
      "P243\n",
      "P244\n",
      "P245\n",
      "P246\n",
      "P247\n",
      "P249\n",
      "P250\n",
      "P252\n",
      "P253\n",
      "P254\n",
      "P256\n",
      "P257\n",
      "P258\n",
      "P259\n",
      "P260\n",
      "P261\n",
      "P262\n",
      "P263\n",
      "P264\n",
      "P265\n",
      "P267\n",
      "P268\n",
      "P269\n",
      "P271\n",
      "P272\n",
      "P273\n",
      "P275\n",
      "P276\n",
      "P277\n",
      "P278\n",
      "P279\n",
      "P280\n",
      "P281\n",
      "P282\n",
      "P283\n",
      "P284\n",
      "P285\n",
      "P286\n",
      "P287\n",
      "P288\n",
      "P289\n",
      "P290\n",
      "P291\n",
      "P298\n",
      "P299\n",
      "P300\n",
      "P301\n",
      "P302\n",
      "P303\n",
      "P304\n",
      "P305\n",
      "P306\n",
      "P307\n",
      "P353\n",
      "P354\n",
      "P355\n",
      "P356\n",
      "P382\n",
      "P384\n"
     ]
    },
    {
     "name": "stderr",
     "output_type": "stream",
     "text": [
      "c:\\Users\\melov\\Documents\\GitHub\\tum_DAP_project\\venv\\lib\\site-packages\\pmdarima\\arima\\auto.py:444: UserWarning: Input time-series is completely constant; returning a (0, 0, 0) ARMA.\n",
      "  warnings.warn('Input time-series is completely constant; '\n"
     ]
    },
    {
     "name": "stdout",
     "output_type": "stream",
     "text": [
      "P385\n",
      "P387\n"
     ]
    },
    {
     "name": "stderr",
     "output_type": "stream",
     "text": [
      "c:\\Users\\melov\\Documents\\GitHub\\tum_DAP_project\\venv\\lib\\site-packages\\pmdarima\\arima\\auto.py:444: UserWarning: Input time-series is completely constant; returning a (0, 0, 0) ARMA.\n",
      "  warnings.warn('Input time-series is completely constant; '\n"
     ]
    },
    {
     "name": "stdout",
     "output_type": "stream",
     "text": [
      "P391\n",
      "P393\n"
     ]
    },
    {
     "name": "stderr",
     "output_type": "stream",
     "text": [
      "c:\\Users\\melov\\Documents\\GitHub\\tum_DAP_project\\venv\\lib\\site-packages\\pmdarima\\arima\\auto.py:444: UserWarning: Input time-series is completely constant; returning a (0, 0, 0) ARMA.\n",
      "  warnings.warn('Input time-series is completely constant; '\n"
     ]
    },
    {
     "name": "stdout",
     "output_type": "stream",
     "text": [
      "P395\n",
      "P405\n",
      "P409\n",
      "P411\n"
     ]
    },
    {
     "name": "stderr",
     "output_type": "stream",
     "text": [
      "c:\\Users\\melov\\Documents\\GitHub\\tum_DAP_project\\venv\\lib\\site-packages\\pmdarima\\arima\\auto.py:444: UserWarning: Input time-series is completely constant; returning a (0, 0, 0) ARMA.\n",
      "  warnings.warn('Input time-series is completely constant; '\n"
     ]
    },
    {
     "name": "stdout",
     "output_type": "stream",
     "text": [
      "P412\n",
      "P415\n",
      "P495\n",
      "P496\n",
      "P497\n",
      "P498\n",
      "P499\n",
      "P500\n",
      "P501\n",
      "P502\n",
      "P504\n",
      "P505\n",
      "P506\n",
      "P507\n",
      "P508\n",
      "P509\n",
      "P510\n",
      "P511\n",
      "P512\n",
      "P513\n",
      "P515\n",
      "P516\n",
      "P517\n",
      "P518\n",
      "P519\n",
      "P520\n",
      "P521\n",
      "P522\n",
      "P523\n",
      "P524\n",
      "P525\n",
      "P526\n",
      "P527\n",
      "P528\n",
      "P529\n",
      "P530\n",
      "P531\n",
      "P532\n",
      "P533\n",
      "P534\n",
      "P535\n",
      "P536\n",
      "P537\n",
      "P538\n",
      "P539\n",
      "P540\n",
      "P541\n",
      "P542\n",
      "P543\n",
      "P544\n",
      "P545\n",
      "P546\n",
      "P547\n",
      "P548\n",
      "P549\n",
      "P550\n",
      "P551\n",
      "P552\n",
      "P553\n",
      "P554\n",
      "P555\n",
      "P556\n",
      "P557\n",
      "P558\n",
      "P560\n",
      "P561\n",
      "P564\n",
      "P566\n",
      "P567\n",
      "P568\n",
      "P569\n",
      "P570\n",
      "P571\n",
      "P572\n",
      "P573\n",
      "P574\n",
      "P575\n",
      "P576\n",
      "P577\n",
      "P579\n",
      "P580\n",
      "P581\n",
      "P582\n",
      "P583\n",
      "P584\n",
      "P585\n",
      "P586\n",
      "P588\n",
      "P589\n",
      "P590\n",
      "P591\n",
      "P592\n",
      "P593\n",
      "P594\n",
      "P597\n",
      "P598\n",
      "P599\n",
      "P600\n",
      "P601\n",
      "P603\n",
      "P604\n",
      "P605\n",
      "P606\n",
      "P608\n",
      "P609\n",
      "P610\n",
      "P611\n",
      "P612\n",
      "P613\n",
      "P614\n",
      "P615\n",
      "P616\n",
      "P617\n",
      "P618\n",
      "P619\n",
      "P620\n",
      "P621\n",
      "P622\n",
      "P623\n",
      "P624\n",
      "P625\n",
      "P626\n",
      "P627\n",
      "P628\n",
      "P629\n",
      "P630\n",
      "P632\n",
      "P634\n",
      "P636\n",
      "P637\n",
      "P639\n",
      "P642\n",
      "P644\n",
      "P645\n",
      "P647\n",
      "P648\n",
      "P649\n",
      "P651\n",
      "P652\n",
      "P653\n",
      "P655\n",
      "P656\n",
      "P658\n",
      "P659\n",
      "P660\n",
      "P662\n",
      "P663\n",
      "P664\n",
      "P666\n",
      "P667\n",
      "P668\n",
      "P669\n",
      "P670\n",
      "P671\n",
      "P672\n",
      "P673\n",
      "P674\n",
      "P675\n",
      "P676\n",
      "P677\n",
      "P678\n",
      "P679\n",
      "P680\n",
      "P681\n",
      "P683\n",
      "P684\n",
      "P685\n",
      "P686\n",
      "P687\n",
      "P688\n",
      "P689\n",
      "P690\n",
      "P691\n",
      "P692\n",
      "P693\n",
      "P694\n",
      "P695\n",
      "P696\n",
      "P697\n",
      "P698\n",
      "P699\n",
      "P700\n",
      "P701\n",
      "P702\n",
      "P703\n",
      "P704\n",
      "P705\n",
      "P706\n",
      "P707\n",
      "P708\n",
      "P709\n",
      "P710\n",
      "P711\n",
      "P712\n",
      "P715\n",
      "P718\n",
      "P719\n",
      "P720\n",
      "P721\n",
      "P722\n",
      "P723\n",
      "P725\n",
      "P726\n",
      "P727\n",
      "P729\n",
      "P730\n",
      "P733\n",
      "P737\n",
      "P738\n",
      "P739\n",
      "P742\n",
      "P743\n",
      "P744\n",
      "P746\n",
      "P748\n",
      "P749\n",
      "P750\n",
      "P754\n",
      "P755\n",
      "P757\n",
      "P758\n",
      "P759\n",
      "P760\n",
      "P762\n",
      "P764\n",
      "P765\n",
      "P768\n",
      "P769\n",
      "P771\n"
     ]
    },
    {
     "name": "stderr",
     "output_type": "stream",
     "text": [
      "c:\\Users\\melov\\Documents\\GitHub\\tum_DAP_project\\venv\\lib\\site-packages\\pmdarima\\arima\\auto.py:444: UserWarning: Input time-series is completely constant; returning a (0, 0, 0) ARMA.\n",
      "  warnings.warn('Input time-series is completely constant; '\n"
     ]
    },
    {
     "name": "stdout",
     "output_type": "stream",
     "text": [
      "P773\n",
      "P774\n",
      "P775\n",
      "P776\n",
      "P782\n",
      "P783\n",
      "P790\n",
      "P791\n"
     ]
    },
    {
     "name": "stderr",
     "output_type": "stream",
     "text": [
      "c:\\Users\\melov\\Documents\\GitHub\\tum_DAP_project\\venv\\lib\\site-packages\\pmdarima\\arima\\auto.py:444: UserWarning: Input time-series is completely constant; returning a (0, 0, 0) ARMA.\n",
      "  warnings.warn('Input time-series is completely constant; '\n"
     ]
    },
    {
     "name": "stdout",
     "output_type": "stream",
     "text": [
      "P792\n"
     ]
    },
    {
     "name": "stderr",
     "output_type": "stream",
     "text": [
      "c:\\Users\\melov\\Documents\\GitHub\\tum_DAP_project\\venv\\lib\\site-packages\\pmdarima\\arima\\auto.py:444: UserWarning: Input time-series is completely constant; returning a (0, 0, 0) ARMA.\n",
      "  warnings.warn('Input time-series is completely constant; '\n"
     ]
    },
    {
     "name": "stdout",
     "output_type": "stream",
     "text": [
      "P793\n"
     ]
    },
    {
     "name": "stderr",
     "output_type": "stream",
     "text": [
      "c:\\Users\\melov\\Documents\\GitHub\\tum_DAP_project\\venv\\lib\\site-packages\\pmdarima\\arima\\auto.py:444: UserWarning: Input time-series is completely constant; returning a (0, 0, 0) ARMA.\n",
      "  warnings.warn('Input time-series is completely constant; '\n"
     ]
    },
    {
     "name": "stdout",
     "output_type": "stream",
     "text": [
      "P794\n",
      "P795\n",
      "P796\n",
      "P797\n",
      "P798\n",
      "P799\n",
      "P800\n",
      "P801\n",
      "P802\n",
      "P803\n",
      "P804\n",
      "P806\n",
      "P807\n",
      "P808\n",
      "P809\n",
      "P810\n",
      "P811\n"
     ]
    },
    {
     "name": "stderr",
     "output_type": "stream",
     "text": [
      "c:\\Users\\melov\\Documents\\GitHub\\tum_DAP_project\\venv\\lib\\site-packages\\pmdarima\\arima\\auto.py:444: UserWarning: Input time-series is completely constant; returning a (0, 0, 0) ARMA.\n",
      "  warnings.warn('Input time-series is completely constant; '\n"
     ]
    },
    {
     "name": "stdout",
     "output_type": "stream",
     "text": [
      "P812\n",
      "P813\n",
      "P814\n"
     ]
    },
    {
     "name": "stderr",
     "output_type": "stream",
     "text": [
      "c:\\Users\\melov\\Documents\\GitHub\\tum_DAP_project\\venv\\lib\\site-packages\\pmdarima\\arima\\auto.py:444: UserWarning: Input time-series is completely constant; returning a (0, 0, 0) ARMA.\n",
      "  warnings.warn('Input time-series is completely constant; '\n"
     ]
    },
    {
     "name": "stdout",
     "output_type": "stream",
     "text": [
      "P815\n",
      "P817\n"
     ]
    },
    {
     "name": "stderr",
     "output_type": "stream",
     "text": [
      "c:\\Users\\melov\\Documents\\GitHub\\tum_DAP_project\\venv\\lib\\site-packages\\pmdarima\\arima\\auto.py:444: UserWarning: Input time-series is completely constant; returning a (0, 0, 0) ARMA.\n",
      "  warnings.warn('Input time-series is completely constant; '\n"
     ]
    },
    {
     "name": "stdout",
     "output_type": "stream",
     "text": [
      "P819\n"
     ]
    },
    {
     "name": "stderr",
     "output_type": "stream",
     "text": [
      "c:\\Users\\melov\\Documents\\GitHub\\tum_DAP_project\\venv\\lib\\site-packages\\pmdarima\\arima\\auto.py:444: UserWarning: Input time-series is completely constant; returning a (0, 0, 0) ARMA.\n",
      "  warnings.warn('Input time-series is completely constant; '\n"
     ]
    },
    {
     "name": "stdout",
     "output_type": "stream",
     "text": [
      "P820\n",
      "P821\n",
      "P822\n",
      "P826\n",
      "P829\n"
     ]
    },
    {
     "name": "stderr",
     "output_type": "stream",
     "text": [
      "c:\\Users\\melov\\Documents\\GitHub\\tum_DAP_project\\venv\\lib\\site-packages\\pmdarima\\arima\\auto.py:444: UserWarning: Input time-series is completely constant; returning a (0, 0, 0) ARMA.\n",
      "  warnings.warn('Input time-series is completely constant; '\n"
     ]
    },
    {
     "name": "stdout",
     "output_type": "stream",
     "text": [
      "P831\n"
     ]
    },
    {
     "name": "stderr",
     "output_type": "stream",
     "text": [
      "c:\\Users\\melov\\Documents\\GitHub\\tum_DAP_project\\venv\\lib\\site-packages\\pmdarima\\arima\\auto.py:444: UserWarning: Input time-series is completely constant; returning a (0, 0, 0) ARMA.\n",
      "  warnings.warn('Input time-series is completely constant; '\n"
     ]
    },
    {
     "name": "stdout",
     "output_type": "stream",
     "text": [
      "P833\n"
     ]
    },
    {
     "name": "stderr",
     "output_type": "stream",
     "text": [
      "c:\\Users\\melov\\Documents\\GitHub\\tum_DAP_project\\venv\\lib\\site-packages\\pmdarima\\arima\\auto.py:444: UserWarning: Input time-series is completely constant; returning a (0, 0, 0) ARMA.\n",
      "  warnings.warn('Input time-series is completely constant; '\n"
     ]
    },
    {
     "name": "stdout",
     "output_type": "stream",
     "text": [
      "P835\n",
      "P839\n",
      "P840\n"
     ]
    },
    {
     "name": "stderr",
     "output_type": "stream",
     "text": [
      "c:\\Users\\melov\\Documents\\GitHub\\tum_DAP_project\\venv\\lib\\site-packages\\pmdarima\\arima\\auto.py:444: UserWarning: Input time-series is completely constant; returning a (0, 0, 0) ARMA.\n",
      "  warnings.warn('Input time-series is completely constant; '\n"
     ]
    },
    {
     "name": "stdout",
     "output_type": "stream",
     "text": [
      "P848\n"
     ]
    },
    {
     "name": "stderr",
     "output_type": "stream",
     "text": [
      "c:\\Users\\melov\\Documents\\GitHub\\tum_DAP_project\\venv\\lib\\site-packages\\pmdarima\\arima\\auto.py:444: UserWarning: Input time-series is completely constant; returning a (0, 0, 0) ARMA.\n",
      "  warnings.warn('Input time-series is completely constant; '\n"
     ]
    },
    {
     "name": "stdout",
     "output_type": "stream",
     "text": [
      "P851\n",
      "P852\n",
      "P853\n",
      "P858\n",
      "P860\n"
     ]
    },
    {
     "name": "stderr",
     "output_type": "stream",
     "text": [
      "c:\\Users\\melov\\Documents\\GitHub\\tum_DAP_project\\venv\\lib\\site-packages\\pmdarima\\arima\\auto.py:444: UserWarning: Input time-series is completely constant; returning a (0, 0, 0) ARMA.\n",
      "  warnings.warn('Input time-series is completely constant; '\n"
     ]
    },
    {
     "name": "stdout",
     "output_type": "stream",
     "text": [
      "P864\n"
     ]
    },
    {
     "name": "stderr",
     "output_type": "stream",
     "text": [
      "c:\\Users\\melov\\Documents\\GitHub\\tum_DAP_project\\venv\\lib\\site-packages\\pmdarima\\arima\\auto.py:444: UserWarning: Input time-series is completely constant; returning a (0, 0, 0) ARMA.\n",
      "  warnings.warn('Input time-series is completely constant; '\n"
     ]
    },
    {
     "name": "stdout",
     "output_type": "stream",
     "text": [
      "P867\n",
      "P868\n",
      "P870\n"
     ]
    },
    {
     "name": "stderr",
     "output_type": "stream",
     "text": [
      "c:\\Users\\melov\\Documents\\GitHub\\tum_DAP_project\\venv\\lib\\site-packages\\pmdarima\\arima\\auto.py:444: UserWarning: Input time-series is completely constant; returning a (0, 0, 0) ARMA.\n",
      "  warnings.warn('Input time-series is completely constant; '\n"
     ]
    },
    {
     "name": "stdout",
     "output_type": "stream",
     "text": [
      "P872\n",
      "P874\n",
      "P875\n"
     ]
    },
    {
     "name": "stderr",
     "output_type": "stream",
     "text": [
      "c:\\Users\\melov\\Documents\\GitHub\\tum_DAP_project\\venv\\lib\\site-packages\\pmdarima\\arima\\auto.py:444: UserWarning: Input time-series is completely constant; returning a (0, 0, 0) ARMA.\n",
      "  warnings.warn('Input time-series is completely constant; '\n"
     ]
    },
    {
     "name": "stdout",
     "output_type": "stream",
     "text": [
      "P876\n",
      "P882\n",
      "P885\n",
      "P887\n"
     ]
    },
    {
     "name": "stderr",
     "output_type": "stream",
     "text": [
      "c:\\Users\\melov\\Documents\\GitHub\\tum_DAP_project\\venv\\lib\\site-packages\\pmdarima\\arima\\auto.py:444: UserWarning: Input time-series is completely constant; returning a (0, 0, 0) ARMA.\n",
      "  warnings.warn('Input time-series is completely constant; '\n"
     ]
    },
    {
     "name": "stdout",
     "output_type": "stream",
     "text": [
      "P888\n",
      "P889\n",
      "P890\n"
     ]
    },
    {
     "name": "stderr",
     "output_type": "stream",
     "text": [
      "c:\\Users\\melov\\Documents\\GitHub\\tum_DAP_project\\venv\\lib\\site-packages\\pmdarima\\arima\\auto.py:444: UserWarning: Input time-series is completely constant; returning a (0, 0, 0) ARMA.\n",
      "  warnings.warn('Input time-series is completely constant; '\n"
     ]
    },
    {
     "name": "stdout",
     "output_type": "stream",
     "text": [
      "P891\n"
     ]
    },
    {
     "name": "stderr",
     "output_type": "stream",
     "text": [
      "c:\\Users\\melov\\Documents\\GitHub\\tum_DAP_project\\venv\\lib\\site-packages\\pmdarima\\arima\\auto.py:444: UserWarning: Input time-series is completely constant; returning a (0, 0, 0) ARMA.\n",
      "  warnings.warn('Input time-series is completely constant; '\n"
     ]
    },
    {
     "name": "stdout",
     "output_type": "stream",
     "text": [
      "P892\n",
      "P893\n"
     ]
    },
    {
     "name": "stderr",
     "output_type": "stream",
     "text": [
      "c:\\Users\\melov\\Documents\\GitHub\\tum_DAP_project\\venv\\lib\\site-packages\\pmdarima\\arima\\auto.py:444: UserWarning: Input time-series is completely constant; returning a (0, 0, 0) ARMA.\n",
      "  warnings.warn('Input time-series is completely constant; '\n"
     ]
    },
    {
     "name": "stdout",
     "output_type": "stream",
     "text": [
      "P894\n"
     ]
    },
    {
     "name": "stderr",
     "output_type": "stream",
     "text": [
      "c:\\Users\\melov\\Documents\\GitHub\\tum_DAP_project\\venv\\lib\\site-packages\\pmdarima\\arima\\auto.py:444: UserWarning: Input time-series is completely constant; returning a (0, 0, 0) ARMA.\n",
      "  warnings.warn('Input time-series is completely constant; '\n"
     ]
    },
    {
     "name": "stdout",
     "output_type": "stream",
     "text": [
      "P896\n"
     ]
    },
    {
     "name": "stderr",
     "output_type": "stream",
     "text": [
      "c:\\Users\\melov\\Documents\\GitHub\\tum_DAP_project\\venv\\lib\\site-packages\\pmdarima\\arima\\auto.py:444: UserWarning: Input time-series is completely constant; returning a (0, 0, 0) ARMA.\n",
      "  warnings.warn('Input time-series is completely constant; '\n"
     ]
    },
    {
     "name": "stdout",
     "output_type": "stream",
     "text": [
      "P897\n"
     ]
    },
    {
     "name": "stderr",
     "output_type": "stream",
     "text": [
      "c:\\Users\\melov\\Documents\\GitHub\\tum_DAP_project\\venv\\lib\\site-packages\\pmdarima\\arima\\auto.py:444: UserWarning: Input time-series is completely constant; returning a (0, 0, 0) ARMA.\n",
      "  warnings.warn('Input time-series is completely constant; '\n"
     ]
    },
    {
     "name": "stdout",
     "output_type": "stream",
     "text": [
      "P898\n",
      "P900\n"
     ]
    },
    {
     "name": "stderr",
     "output_type": "stream",
     "text": [
      "c:\\Users\\melov\\Documents\\GitHub\\tum_DAP_project\\venv\\lib\\site-packages\\pmdarima\\arima\\auto.py:444: UserWarning: Input time-series is completely constant; returning a (0, 0, 0) ARMA.\n",
      "  warnings.warn('Input time-series is completely constant; '\n"
     ]
    },
    {
     "name": "stdout",
     "output_type": "stream",
     "text": [
      "P901\n"
     ]
    },
    {
     "name": "stderr",
     "output_type": "stream",
     "text": [
      "c:\\Users\\melov\\Documents\\GitHub\\tum_DAP_project\\venv\\lib\\site-packages\\pmdarima\\arima\\auto.py:444: UserWarning: Input time-series is completely constant; returning a (0, 0, 0) ARMA.\n",
      "  warnings.warn('Input time-series is completely constant; '\n"
     ]
    },
    {
     "name": "stdout",
     "output_type": "stream",
     "text": [
      "P902\n"
     ]
    },
    {
     "name": "stderr",
     "output_type": "stream",
     "text": [
      "c:\\Users\\melov\\Documents\\GitHub\\tum_DAP_project\\venv\\lib\\site-packages\\pmdarima\\arima\\auto.py:444: UserWarning: Input time-series is completely constant; returning a (0, 0, 0) ARMA.\n",
      "  warnings.warn('Input time-series is completely constant; '\n"
     ]
    },
    {
     "name": "stdout",
     "output_type": "stream",
     "text": [
      "P903\n"
     ]
    },
    {
     "name": "stderr",
     "output_type": "stream",
     "text": [
      "c:\\Users\\melov\\Documents\\GitHub\\tum_DAP_project\\venv\\lib\\site-packages\\pmdarima\\arima\\auto.py:444: UserWarning: Input time-series is completely constant; returning a (0, 0, 0) ARMA.\n",
      "  warnings.warn('Input time-series is completely constant; '\n"
     ]
    },
    {
     "name": "stdout",
     "output_type": "stream",
     "text": [
      "P904\n"
     ]
    },
    {
     "name": "stderr",
     "output_type": "stream",
     "text": [
      "c:\\Users\\melov\\Documents\\GitHub\\tum_DAP_project\\venv\\lib\\site-packages\\pmdarima\\arima\\auto.py:444: UserWarning: Input time-series is completely constant; returning a (0, 0, 0) ARMA.\n",
      "  warnings.warn('Input time-series is completely constant; '\n"
     ]
    },
    {
     "name": "stdout",
     "output_type": "stream",
     "text": [
      "P905\n"
     ]
    },
    {
     "name": "stderr",
     "output_type": "stream",
     "text": [
      "c:\\Users\\melov\\Documents\\GitHub\\tum_DAP_project\\venv\\lib\\site-packages\\pmdarima\\arima\\auto.py:444: UserWarning: Input time-series is completely constant; returning a (0, 0, 0) ARMA.\n",
      "  warnings.warn('Input time-series is completely constant; '\n"
     ]
    },
    {
     "name": "stdout",
     "output_type": "stream",
     "text": [
      "P906\n"
     ]
    },
    {
     "name": "stderr",
     "output_type": "stream",
     "text": [
      "c:\\Users\\melov\\Documents\\GitHub\\tum_DAP_project\\venv\\lib\\site-packages\\pmdarima\\arima\\auto.py:444: UserWarning: Input time-series is completely constant; returning a (0, 0, 0) ARMA.\n",
      "  warnings.warn('Input time-series is completely constant; '\n"
     ]
    },
    {
     "name": "stdout",
     "output_type": "stream",
     "text": [
      "P907\n"
     ]
    },
    {
     "name": "stderr",
     "output_type": "stream",
     "text": [
      "c:\\Users\\melov\\Documents\\GitHub\\tum_DAP_project\\venv\\lib\\site-packages\\pmdarima\\arima\\auto.py:444: UserWarning: Input time-series is completely constant; returning a (0, 0, 0) ARMA.\n",
      "  warnings.warn('Input time-series is completely constant; '\n"
     ]
    },
    {
     "name": "stdout",
     "output_type": "stream",
     "text": [
      "P908\n"
     ]
    },
    {
     "name": "stderr",
     "output_type": "stream",
     "text": [
      "c:\\Users\\melov\\Documents\\GitHub\\tum_DAP_project\\venv\\lib\\site-packages\\pmdarima\\arima\\auto.py:444: UserWarning: Input time-series is completely constant; returning a (0, 0, 0) ARMA.\n",
      "  warnings.warn('Input time-series is completely constant; '\n"
     ]
    },
    {
     "name": "stdout",
     "output_type": "stream",
     "text": [
      "P909\n"
     ]
    },
    {
     "name": "stderr",
     "output_type": "stream",
     "text": [
      "c:\\Users\\melov\\Documents\\GitHub\\tum_DAP_project\\venv\\lib\\site-packages\\pmdarima\\arima\\auto.py:444: UserWarning: Input time-series is completely constant; returning a (0, 0, 0) ARMA.\n",
      "  warnings.warn('Input time-series is completely constant; '\n"
     ]
    },
    {
     "name": "stdout",
     "output_type": "stream",
     "text": [
      "P910\n"
     ]
    },
    {
     "name": "stderr",
     "output_type": "stream",
     "text": [
      "c:\\Users\\melov\\Documents\\GitHub\\tum_DAP_project\\venv\\lib\\site-packages\\pmdarima\\arima\\auto.py:444: UserWarning: Input time-series is completely constant; returning a (0, 0, 0) ARMA.\n",
      "  warnings.warn('Input time-series is completely constant; '\n"
     ]
    },
    {
     "name": "stdout",
     "output_type": "stream",
     "text": [
      "P911\n"
     ]
    },
    {
     "name": "stderr",
     "output_type": "stream",
     "text": [
      "c:\\Users\\melov\\Documents\\GitHub\\tum_DAP_project\\venv\\lib\\site-packages\\pmdarima\\arima\\auto.py:444: UserWarning: Input time-series is completely constant; returning a (0, 0, 0) ARMA.\n",
      "  warnings.warn('Input time-series is completely constant; '\n"
     ]
    },
    {
     "name": "stdout",
     "output_type": "stream",
     "text": [
      "P912\n",
      "P914\n",
      "P915\n"
     ]
    },
    {
     "name": "stderr",
     "output_type": "stream",
     "text": [
      "c:\\Users\\melov\\Documents\\GitHub\\tum_DAP_project\\venv\\lib\\site-packages\\pmdarima\\arima\\auto.py:444: UserWarning: Input time-series is completely constant; returning a (0, 0, 0) ARMA.\n",
      "  warnings.warn('Input time-series is completely constant; '\n"
     ]
    },
    {
     "name": "stdout",
     "output_type": "stream",
     "text": [
      "P916\n"
     ]
    },
    {
     "name": "stderr",
     "output_type": "stream",
     "text": [
      "c:\\Users\\melov\\Documents\\GitHub\\tum_DAP_project\\venv\\lib\\site-packages\\pmdarima\\arima\\auto.py:444: UserWarning: Input time-series is completely constant; returning a (0, 0, 0) ARMA.\n",
      "  warnings.warn('Input time-series is completely constant; '\n"
     ]
    },
    {
     "name": "stdout",
     "output_type": "stream",
     "text": [
      "P917\n",
      "P918\n",
      "P919\n"
     ]
    },
    {
     "name": "stderr",
     "output_type": "stream",
     "text": [
      "c:\\Users\\melov\\Documents\\GitHub\\tum_DAP_project\\venv\\lib\\site-packages\\pmdarima\\arima\\auto.py:444: UserWarning: Input time-series is completely constant; returning a (0, 0, 0) ARMA.\n",
      "  warnings.warn('Input time-series is completely constant; '\n"
     ]
    },
    {
     "name": "stdout",
     "output_type": "stream",
     "text": [
      "P920\n",
      "P921\n",
      "P922\n",
      "P923\n",
      "P924\n",
      "P925\n",
      "P926\n",
      "P927\n",
      "P928\n",
      "P929\n",
      "P930\n",
      "P932\n",
      "P933\n",
      "P934\n",
      "P936\n",
      "P937\n",
      "P938\n",
      "P939\n",
      "P941\n",
      "P942\n",
      "P943\n",
      "P945\n",
      "P946\n",
      "P947\n",
      "P948\n",
      "P949\n",
      "P950\n",
      "P951\n",
      "P952\n",
      "P953\n",
      "P954\n",
      "P955\n",
      "P956\n",
      "P957\n",
      "P958\n",
      "P959\n",
      "P960\n",
      "P962\n",
      "P963\n",
      "P964\n",
      "P965\n",
      "P966\n",
      "P968\n",
      "P969\n",
      "P971\n",
      "P974\n",
      "P975\n",
      "P976\n",
      "P977\n",
      "P978\n",
      "P980\n",
      "P981\n",
      "P982\n",
      "P983\n",
      "P984\n",
      "P985\n",
      "P986\n",
      "P987\n",
      "P988\n",
      "P989\n",
      "P990\n",
      "P991\n",
      "P992\n",
      "P993\n",
      "P994\n",
      "P995\n",
      "P996\n",
      "P997\n"
     ]
    },
    {
     "name": "stderr",
     "output_type": "stream",
     "text": [
      "c:\\Users\\melov\\Documents\\GitHub\\tum_DAP_project\\venv\\lib\\site-packages\\pmdarima\\arima\\_auto_solvers.py:524: ModelFitWarning: Error fitting  ARIMA(2,0,1)(0,0,0)[0]           (if you do not want to see these warnings, run with error_action=\"ignore\").\n",
      "Traceback:\n",
      "Traceback (most recent call last):\n",
      "  File \"c:\\Users\\melov\\Documents\\GitHub\\tum_DAP_project\\venv\\lib\\site-packages\\pmdarima\\arima\\_auto_solvers.py\", line 508, in _fit_candidate_model\n",
      "    fit.fit(y, X=X, **fit_params)\n",
      "  File \"c:\\Users\\melov\\Documents\\GitHub\\tum_DAP_project\\venv\\lib\\site-packages\\pmdarima\\arima\\arima.py\", line 603, in fit\n",
      "    self._fit(y, X, **fit_args)\n",
      "  File \"c:\\Users\\melov\\Documents\\GitHub\\tum_DAP_project\\venv\\lib\\site-packages\\pmdarima\\arima\\arima.py\", line 524, in _fit\n",
      "    fit, self.arima_res_ = _fit_wrapper()\n",
      "  File \"c:\\Users\\melov\\Documents\\GitHub\\tum_DAP_project\\venv\\lib\\site-packages\\pmdarima\\arima\\arima.py\", line 510, in _fit_wrapper\n",
      "    fitted = arima.fit(\n",
      "  File \"c:\\Users\\melov\\Documents\\GitHub\\tum_DAP_project\\venv\\lib\\site-packages\\statsmodels\\tsa\\statespace\\mlemodel.py\", line 704, in fit\n",
      "    mlefit = super(MLEModel, self).fit(start_params, method=method,\n",
      "  File \"c:\\Users\\melov\\Documents\\GitHub\\tum_DAP_project\\venv\\lib\\site-packages\\statsmodels\\base\\model.py\", line 566, in fit\n",
      "    xopt, retvals, optim_settings = optimizer._fit(f, score, start_params,\n",
      "  File \"c:\\Users\\melov\\Documents\\GitHub\\tum_DAP_project\\venv\\lib\\site-packages\\statsmodels\\base\\optimizer.py\", line 242, in _fit\n",
      "    xopt, retvals = func(objective, gradient, start_params, fargs, kwargs,\n",
      "  File \"c:\\Users\\melov\\Documents\\GitHub\\tum_DAP_project\\venv\\lib\\site-packages\\statsmodels\\base\\optimizer.py\", line 659, in _fit_lbfgs\n",
      "    retvals = optimize.fmin_l_bfgs_b(func, start_params, maxiter=maxiter,\n",
      "  File \"c:\\Users\\melov\\Documents\\GitHub\\tum_DAP_project\\venv\\lib\\site-packages\\scipy\\optimize\\_lbfgsb_py.py\", line 197, in fmin_l_bfgs_b\n",
      "    res = _minimize_lbfgsb(fun, x0, args=args, jac=jac, bounds=bounds,\n",
      "  File \"c:\\Users\\melov\\Documents\\GitHub\\tum_DAP_project\\venv\\lib\\site-packages\\scipy\\optimize\\_lbfgsb_py.py\", line 359, in _minimize_lbfgsb\n",
      "    f, g = func_and_grad(x)\n",
      "  File \"c:\\Users\\melov\\Documents\\GitHub\\tum_DAP_project\\venv\\lib\\site-packages\\scipy\\optimize\\_differentiable_functions.py\", line 285, in fun_and_grad\n",
      "    self._update_fun()\n",
      "  File \"c:\\Users\\melov\\Documents\\GitHub\\tum_DAP_project\\venv\\lib\\site-packages\\scipy\\optimize\\_differentiable_functions.py\", line 251, in _update_fun\n",
      "    self._update_fun_impl()\n",
      "  File \"c:\\Users\\melov\\Documents\\GitHub\\tum_DAP_project\\venv\\lib\\site-packages\\scipy\\optimize\\_differentiable_functions.py\", line 155, in update_fun\n",
      "    self.f = fun_wrapped(self.x)\n",
      "  File \"c:\\Users\\melov\\Documents\\GitHub\\tum_DAP_project\\venv\\lib\\site-packages\\scipy\\optimize\\_differentiable_functions.py\", line 137, in fun_wrapped\n",
      "    fx = fun(np.copy(x), *args)\n",
      "  File \"c:\\Users\\melov\\Documents\\GitHub\\tum_DAP_project\\venv\\lib\\site-packages\\statsmodels\\base\\model.py\", line 534, in f\n",
      "    return -self.loglike(params, *args) / nobs\n",
      "  File \"c:\\Users\\melov\\Documents\\GitHub\\tum_DAP_project\\venv\\lib\\site-packages\\statsmodels\\tsa\\statespace\\mlemodel.py\", line 939, in loglike\n",
      "    loglike = self.ssm.loglike(complex_step=complex_step, **kwargs)\n",
      "  File \"c:\\Users\\melov\\Documents\\GitHub\\tum_DAP_project\\venv\\lib\\site-packages\\statsmodels\\tsa\\statespace\\kalman_filter.py\", line 1001, in loglike\n",
      "    kfilter = self._filter(**kwargs)\n",
      "  File \"c:\\Users\\melov\\Documents\\GitHub\\tum_DAP_project\\venv\\lib\\site-packages\\statsmodels\\tsa\\statespace\\kalman_filter.py\", line 921, in _filter\n",
      "    self._initialize_state(prefix=prefix, complex_step=complex_step)\n",
      "  File \"c:\\Users\\melov\\Documents\\GitHub\\tum_DAP_project\\venv\\lib\\site-packages\\statsmodels\\tsa\\statespace\\representation.py\", line 1058, in _initialize_state\n",
      "    self._statespaces[prefix].initialize(self.initialization,\n",
      "  File \"statsmodels\\tsa\\statespace\\_representation.pyx\", line 1362, in statsmodels.tsa.statespace._representation.dStatespace.initialize\n",
      "  File \"statsmodels\\tsa\\statespace\\_initialization.pyx\", line 288, in statsmodels.tsa.statespace._initialization.dInitialization.initialize\n",
      "  File \"statsmodels\\tsa\\statespace\\_initialization.pyx\", line 406, in statsmodels.tsa.statespace._initialization.dInitialization.initialize_stationary_stationary_cov\n",
      "  File \"statsmodels\\tsa\\statespace\\_tools.pyx\", line 1525, in statsmodels.tsa.statespace._tools._dsolve_discrete_lyapunov\n",
      "numpy.linalg.LinAlgError: LU decomposition error.\n",
      "\n",
      "  warnings.warn(warning_str, ModelFitWarning)\n"
     ]
    },
    {
     "name": "stdout",
     "output_type": "stream",
     "text": [
      "P998\n",
      "P999\n"
     ]
    }
   ],
   "source": [
    "import warnings\n",
    "warnings.filterwarnings(\"default\")\n",
    "\n",
    "metric_list = []\n",
    "cov_list = []\n",
    "metrics_df = pd.DataFrame({'product_name' : all_prod_names})\n",
    "ext_forecast_dict ={}\n",
    "\n",
    "\n",
    "for name in all_prod_names:\n",
    "    print(name)\n",
    "    #preparing data\n",
    "    prod_df = sub_df[sub_df['product_name']==name][ext_var+target]\n",
    "    # print(len(prod_df))\n",
    "\n",
    "    # include step for correlation\n",
    "\n",
    "    corr_variables = high_cor_var(df = prod_df[:int(len(prod_df)*train_size)], target=target, columns=ext_var, threshold=0.7)\n",
    "    # print(corr_variables)\n",
    "    if len(corr_variables) != 0:\n",
    "        # print('cov')\n",
    "        # The case where there are columns that remain are correlated to demand\n",
    "        external_variables = VIF(prod_df[corr_variables][:int(len(prod_df)*train_size)], threshold=10)\n",
    "        prod_df = prod_df[external_variables+target]\n",
    "        prod_df_ts = TimeSeries.from_dataframe(prod_df, freq='MS', fillna_value=prod_df['demand'].mean())\n",
    "\n",
    "        # train test split\n",
    "        demand_df = prod_df_ts[target]\n",
    "        demand_train, demand_test = demand_df.split_before(train_size)\n",
    "    \n",
    "        ext_var_df = prod_df_ts[external_variables]\n",
    "        ext_train, ext_test = ext_var_df.split_before(train_size)\n",
    "\n",
    "        # getting indicator of how long testing_set + future forecast is. We use this as an ID to not have to repeat a costly operation\n",
    "        len_id = len(ext_test)+forecast_length\n",
    "        ext_forecasted = predict_df_aarima(ext_train, forecast_len = len_id)\n",
    "    \n",
    "        model_aarima = AutoARIMA(information_criterion = 'hqic', seasonal=True, add_encoders = {'transformer':Scaler()})\n",
    "        model_aarima.fit(series = demand_train, future_covariates = ext_train)\n",
    "    \n",
    "        # forecasting with covariates\n",
    "        forecast = model_aarima.predict(len(ext_test)+forecast_length, future_covariates = ext_forecasted)\n",
    "        forecast = TimeSeries.pd_dataframe(forecast)\n",
    "        cov_list.append('yes')\n",
    "    \n",
    "    else:\n",
    "        # print('else')\n",
    "        # the case where none of the columns are correlated enough\n",
    "        scaler_train = Scaler()\n",
    "        scaler_test = Scaler()\n",
    "\n",
    "        # from arima_loop_2\n",
    "        prod_df_ts = TimeSeries.from_dataframe(prod_df, freq='MS', fillna_value=prod_df['demand'].mean())\n",
    "        demand_train, demand_test = prod_df_ts['demand'].split_before(train_size)\n",
    "\n",
    "        # scaling train and test sets\n",
    "        demand_train = scaler_train.fit_transform(demand_train)\n",
    "        demand_test = scaler_test.fit_transform(demand_test)\n",
    "\n",
    "        # fitting model\n",
    "        model_aarima = AutoARIMA(information_criterion = 'hqic', seasonal=True)\n",
    "        model_aarima.fit(series = demand_train['demand'])\n",
    "        forecast = model_aarima.predict(len(demand_test)+forecast_length)\n",
    "\n",
    "        # inverse forecasts to original magnittude\n",
    "        demand_test = scaler_test.inverse_transform(demand_test)\n",
    "        forecast = scaler_test.inverse_transform(forecast)\n",
    "        forecast = TimeSeries.pd_dataframe(forecast)\n",
    "        cov_list.append('no')\n",
    "    \n",
    "\n",
    "    # set forecasted 0s to be 0.0001 such that smape can be calculated \n",
    "    forecast['demand'] = forecast['demand'].apply(lambda x: x if x>0 else 0.0001)\n",
    "    forecast = TimeSeries.from_dataframe(forecast)\n",
    "\n",
    "    # Calculate accuracy\n",
    "    metric_score = 1 - smape_func_darts(demand_test['demand'], forecast[0:len(demand_test)])\n",
    "    metric_list.append(metric_score)\n",
    "\n",
    "    # plotting result\n",
    "    prod_df_ts['demand'].plot(label='historical')\n",
    "    forecast[:len(demand_test)].plot(label='validation')\n",
    "    forecast[-forecast_length:].plot(label='forecast')\n",
    "    plt.title(f'Product {name}, Accuracy: {metric_score}')\n",
    "    plt.savefig(f'output/AutoArima/graphs/covariate_{name}.png')\n",
    "    plt.close()\n",
    "\n",
    "    # saving models\n",
    "    model_aarima.save(f'output/AutoArima/models/covariate_{name}.pkl')\n",
    "\n",
    "metrics_df['Accuracy_Score'] = metric_list\n",
    "metrics_df['uses_cov'] = cov_list"
   ]
  },
  {
   "cell_type": "code",
   "execution_count": 8,
   "metadata": {},
   "outputs": [
    {
     "data": {
      "text/plain": [
       "no     940\n",
       "yes     91\n",
       "Name: uses_cov, dtype: int64"
      ]
     },
     "execution_count": 8,
     "metadata": {},
     "output_type": "execute_result"
    }
   ],
   "source": [
    "metrics_df['uses_cov'].value_counts()"
   ]
  },
  {
   "cell_type": "code",
   "execution_count": 9,
   "metadata": {},
   "outputs": [
    {
     "name": "stderr",
     "output_type": "stream",
     "text": [
      "C:\\Users\\melov\\AppData\\Local\\Temp\\ipykernel_32100\\3026126392.py:2: FutureWarning: The default value of numeric_only in DataFrame.mean is deprecated. In a future version, it will default to False. In addition, specifying 'numeric_only=None' is deprecated. Select only valid columns or specify the value of numeric_only to silence this warning.\n",
      "  print(len(metrics_df[metrics_df['Accuracy_Score']>0.6]), metrics_df[metrics_df['Accuracy_Score']>0].mean())\n"
     ]
    },
    {
     "name": "stdout",
     "output_type": "stream",
     "text": [
      "419 Accuracy_Score    0.513316\n",
      "dtype: float64\n"
     ]
    },
    {
     "data": {
      "image/png": "[encoded data removed]",
      "text/plain": [
       "<Figure size 640x480 with 1 Axes>"
      ]
     },
     "metadata": {},
     "output_type": "display_data"
    }
   ],
   "source": [
    "metrics_df['Accuracy_Score'].hist()\n",
    "print(len(metrics_df[metrics_df['Accuracy_Score']>0.6]), metrics_df[metrics_df['Accuracy_Score']>0].mean())\n",
    "counts, edges, bars = plt.hist(metrics_df['Accuracy_Score'], color = \"#1f77b4\")\n",
    "plt.bar_label(container=bars)\n",
    "plt.show()\n"
   ]
  },
  {
   "cell_type": "code",
   "execution_count": 11,
   "metadata": {},
   "outputs": [],
   "source": [
    "metrics_df.to_csv('Arima_score_cov.csv')"
   ]
  },
  {
   "cell_type": "code",
   "execution_count": null,
   "metadata": {},
   "outputs": [],
   "source": []
  }
 ],
 "metadata": {
  "kernelspec": {
   "display_name": "Python 3",
   "language": "python",
   "name": "python3"
  },
  "language_info": {
   "codemirror_mode": {
    "name": "ipython",
    "version": 3
   },
   "file_extension": ".py",
   "mimetype": "text/x-python",
   "name": "python",
   "nbconvert_exporter": "python",
   "pygments_lexer": "ipython3",
   "version": "3.10.0"
  }
 },
 "nbformat": 4,
 "nbformat_minor": 2
}
