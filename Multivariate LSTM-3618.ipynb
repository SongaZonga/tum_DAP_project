{
 "cells": [
  {
   "cell_type": "markdown",
   "id": "725b25d1",
   "metadata": {
    "pycharm": {
     "name": "#%%\n"
    }
   },
   "source": [
    "## LSTM method with 36 months for training and testing, another 18 months for future validation"
   ]
  },
  {
   "cell_type": "code",
   "execution_count": null,
   "id": "3523eaf6",
   "metadata": {},
   "outputs": [],
   "source": [
    "import pandas as pd\n",
    "from tqdm import tqdm\n",
    "import keras\n",
    "import pickle \n",
    "from model_preparation import plotting_3618\n",
    "from models import calculate_smape_3618, predictfuture_3618, LSTM_HyperParameter_Tuning\n",
    "import matplotlib.pyplot as plt"
   ]
  },
  {
   "cell_type": "code",
   "execution_count": null,
   "id": "82622e6a",
   "metadata": {
    "pycharm": {
     "name": "#%%\n"
    }
   },
   "outputs": [],
   "source": [
    "# Load the Excel file\n",
    "df_origin = pd.read_csv('20230411_SummerTerm23_Data_Challenge_Infineon_Data.csv')\n",
    "stockprice = pd.read_csv('stockprice.csv')\n",
    "#delete discontinuing products\n",
    "df_continue = df_origin[df_origin['reporting_time']=='2023-02-01T00:00:00.000Z']\n",
    "df_continue_origin = df_origin[df_origin['product_name'].isin(df_continue['product_name'])]\n",
    "\n",
    "# Check number of datapoints\n",
    "product_counts = df_continue_origin['product_name'].value_counts()\n",
    "i=0\n",
    "for name in tqdm(df_continue_origin['product_name'].unique()):\n",
    "    # if we have enough data points\n",
    "    if product_counts[name] > 50:\n",
    "        i=i+1\n",
    "#result dictionaries\n",
    "result = {}\n",
    "result_temp = []\n",
    "result_less80 = {}\n",
    "result_other = {}\n",
    "result_hype = {}\n",
    "result_stock = {}\n",
    "result_stock_hype = {}\n",
    "result_stock_hype_other = {}\n",
    "result_stock_other = {}\n",
    "# Use previous 15 data to predict next demand\n",
    "step = 15 \n",
    "future_periods = 18\n",
    "config = [[25, 50], [32, 64], [0.1, 0.2]]"
   ]
  },
  {
   "cell_type": "code",
   "execution_count": null,
   "id": "f4a1584d",
   "metadata": {
    "pycharm": {
     "name": "#%%\n"
    }
   },
   "outputs": [],
   "source": [
    "for name in tqdm(df_continue_origin['product_name'].unique()):\n",
    "    # if we have enough data points\n",
    "    if product_counts[name] > 49:\n",
    "        df_product = df_continue_origin.loc[df_continue_origin['product_name'] == name]\n",
    "        df_product = df_product.sort_values(by='reporting_time', ascending=True)\n",
    "        dataset, model, X_train, X_test, y_train, y_test, predicted_demand, smape, scaler, real_demand, future_y = calculate_smape_3618(\n",
    "            df_product, step)\n",
    "        if 0.00 < smape < 1.00:\n",
    "            accuracy = 1.00 - smape\n",
    "            if accuracy > 0.79999999:\n",
    "                future = predictfuture_3618(dataset, step, model, future_periods)\n",
    "                future_demand = scaler.inverse_transform(future)[:, 0]\n",
    "                actual = pd.DataFrame(real_demand.reset_index(drop=True))\n",
    "                future = pd.DataFrame(future_demand)\n",
    "                future.index = list(range(len(actual) - 18, len(actual)))\n",
    "                future_accuracy = 1 - smape_loss(actual.iloc[len(actual) - 18:len(actual), :], future)\n",
    "                result[name] = [accuracy, smape, future_demand, predicted_demand[:, 0], real_demand, future_accuracy]\n",
    "#                 model.save(\"LSTM_model/%s.keras\" % name)\n",
    "                plotting_3618(name, result[name], future_periods, hyper=False)\n",
    "            else:\n",
    "                result_less80[name] = [accuracy, smape, X_train, X_test, y_train, y_test]\n",
    "                # hyperparameter tunning\n",
    "                new_accuracy, new_smape, new_model, new_predicted_demand, hist = LSTM_HyperParameter_Tuning(config,\n",
    "                                                                                                            X_train,\n",
    "                                                                                                            y_train,\n",
    "                                                                                                            X_test,\n",
    "                                                                                                            y_test,\n",
    "                                                                                                            scaler,\n",
    "                                                                                                            accuracy)\n",
    "                if new_accuracy > 0.79999999:\n",
    "                    future = predictfuture_3618(dataset, step, new_model, future_periods)\n",
    "                    future_demand = scaler.inverse_transform(future)[:, 0]\n",
    "                    actual = pd.DataFrame(real_demand.reset_index(drop=True))\n",
    "                    future = pd.DataFrame(future_demand)\n",
    "                    future.index = list(range(len(actual) - 18, len(actual)))\n",
    "                    future_accuracy = 1 - smape_loss(actual.iloc[len(actual) - 18:len(actual), :], future)\n",
    "                    result_hype[name] = [new_accuracy, new_smape, future_demand, new_predicted_demand[:, 0],\n",
    "                                         real_demand, future_accuracy]\n",
    "#                     model.save(\"LSTM_model/hyper/%s.keras\" % name)\n",
    "                    plotting_3618(name, result_hype[name], future_periods, hyper=True)\n",
    "                else:\n",
    "                    result_temp.append(name)\n",
    "        else:\n",
    "            result_other[name] = [accuracy, smape, X_train, X_test, y_train, y_test]\n"
   ]
  },
  {
   "cell_type": "code",
   "execution_count": null,
   "id": "0ad5aa54",
   "metadata": {},
   "outputs": [],
   "source": [
    "with open(\"LSTM_results/3618/result_80up.pkl\", 'wb') as f:\n",
    "    pickle.dump(result, f)\n",
    "with open(\"LSTM_results/3618/result_80down.pkl\", 'wb') as f:\n",
    "    pickle.dump(result_less80, f)\n",
    "with open(\"LSTM_results/3618/result_afterhype.pkl\", 'wb') as f:\n",
    "    pickle.dump(result_hype, f)\n",
    "with open(\"LSTM_results/3618/result_temp.pkl\", 'wb') as f:\n",
    "    pickle.dump(result_temp, f)\n",
    "with open(\"LSTM_results/3618/result_other.pkl\", 'wb') as f:\n",
    "    pickle.dump(result_other, f)"
   ]
  },
  {
   "cell_type": "code",
   "execution_count": null,
   "id": "eff881c3",
   "metadata": {
    "pycharm": {
     "name": "#%%\n"
    }
   },
   "outputs": [],
   "source": [
    "for name in tqdm(result_temp):\n",
    "    df_product = df_continue_origin.loc[df_continue_origin['product_name'] == name]\n",
    "    df_product = df_product.sort_values(by='reporting_time', ascending=True)\n",
    "    # using stock price as external indicators\n",
    "    df_product.reset_index(drop=True, inplace=True)\n",
    "    stock_price_cut = stockprice[-len(df_product):]\n",
    "    stock_price_cut.reset_index(drop=True, inplace=True)\n",
    "    df_update = pd.concat([df_product, stock_price_cut], axis=1)\n",
    "    dataset, model, X_train, X_test, y_train, y_test, predicted_demand, smape, scaler, real_demand, future_y = calculate_smape_3618(\n",
    "        df_update, step)\n",
    "    if 0.00 < smape < 1.00:\n",
    "        accuracy = 1.00 - smape\n",
    "        if accuracy > 0.79999999:\n",
    "            future = predictfuture_3618(dataset, step, model, future_periods)\n",
    "            future_demand = scaler.inverse_transform(future)[:, 0]\n",
    "            actual = pd.DataFrame(real_demand.reset_index(drop=True))\n",
    "            future = pd.DataFrame(future_demand)\n",
    "            future.index = list(range(len(actual) - 18, len(actual)))\n",
    "            future_accuracy = 1 - smape_loss(actual.iloc[len(actual) - 18:len(actual), :], future)\n",
    "            result_stock[name] = [accuracy, smape, future_demand, predicted_demand[:, 0], real_demand, future_accuracy]\n",
    "            # model.save(\"LSTM_model/stock/%s.keras\" % name)\n",
    "            plotting_3618(name, result_stock[name], future_periods, stock=True)\n",
    "        else:\n",
    "            # hyperparameter tunning again\n",
    "            new_accuracy, new_smape, new_model, new_predicted_demand, hist = LSTM_HyperParameter_Tuning(\n",
    "                config,\n",
    "                X_train,\n",
    "                y_train,\n",
    "                X_test,\n",
    "                y_test,\n",
    "                scaler,\n",
    "                accuracy)\n",
    "            if new_accuracy > 0.79999999:\n",
    "                future = predictfuture_3618(dataset, step, new_model, future_periods)\n",
    "                future_demand = scaler.inverse_transform(future)[:, 0]\n",
    "                actual = pd.DataFrame(real_demand.reset_index(drop=True))\n",
    "                future = pd.DataFrame(future_demand)\n",
    "                future.index = list(range(len(actual) - 18, len(actual)))\n",
    "                future_accuracy = 1 - smape_loss(actual.iloc[len(actual) - 18:len(actual), :], future)\n",
    "                result_stock_hype[name] = [new_accuracy, new_smape, future_demand,\n",
    "                                           new_predicted_demand[:, 0],\n",
    "                                           real_demand, future_accuracy]\n",
    "                # model.save(\"LSTM_model/stock/hyper/%s.keras\" % name)\n",
    "                plotting_3618(name, result_stock_hype[name], future_periods, hyper=True, stock=True)\n",
    "            else:\n",
    "                # future = predictfuture_3618(dataset, step, new_model, future_periods)\n",
    "                # future_demand = scaler.inverse_transform(future)[:, 0]\n",
    "                # actual = pd.DataFrame(real_demand.reset_index(drop=True))\n",
    "                # future = pd.DataFrame(future_demand)\n",
    "                # future.index = list(range(len(actual) - 18, len(actual)))\n",
    "                # future_accuracy = 1 - smape_loss(actual.iloc[len(actual) - 18:len(actual), :], future)\n",
    "                result_stock_hype_other[name] = [new_accuracy, new_smape]\n",
    "                print(\"cannot exceed 80% after adding stock price and hyperparameter tunning: \")\n",
    "                print(name)\n",
    "    else:\n",
    "        result_stock_other[name] = [accuracy, smape, X_train, X_test, y_train, y_test]\n"
   ]
  },
  {
   "cell_type": "code",
   "execution_count": null,
   "id": "9ad26d0e",
   "metadata": {
    "pycharm": {
     "name": "#%%\n"
    }
   },
   "outputs": [],
   "source": [
    "with open(\"LSTM_results/3618/result_afterstock.pkl\", 'wb') as f:\n",
    "    pickle.dump(result_stock, f)\n",
    "with open(\"LSTM_results/3618/result_afterstockhype.pkl\", 'wb') as f:\n",
    "    pickle.dump(result_stock_hype, f)\n",
    "with open(\"LSTM_results/3618/result_still80downafteralltunning.pkl\", 'wb') as f:\n",
    "    pickle.dump(result_stock_hype_other, f)\n",
    "with open(\"LSTM_results/3618/result_stock_other.pkl\", 'wb') as f:\n",
    "    pickle.dump(result_stock_other, f)"
   ]
  }
 ],
 "metadata": {
  "kernelspec": {
   "display_name": "Python 3 (ipykernel)",
   "language": "python",
   "name": "python3"
  },
  "language_info": {
   "codemirror_mode": {
    "name": "ipython",
    "version": 3
   },
   "file_extension": ".py",
   "mimetype": "text/x-python",
   "name": "python",
   "nbconvert_exporter": "python",
   "pygments_lexer": "ipython3",
   "version": "3.9.13"
  }
 },
 "nbformat": 4,
 "nbformat_minor": 5
}
